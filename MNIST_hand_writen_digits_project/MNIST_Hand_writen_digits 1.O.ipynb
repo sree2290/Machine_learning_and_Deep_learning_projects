{
 "cells": [
  {
   "cell_type": "markdown",
   "id": "ec777c1a",
   "metadata": {},
   "source": [
    "# MNIST"
   ]
  },
  {
   "cell_type": "markdown",
   "id": "f4a0b0a7",
   "metadata": {},
   "source": [
    "###  Importing Libraries"
   ]
  },
  {
   "cell_type": "code",
   "execution_count": 1,
   "id": "309c3815",
   "metadata": {},
   "outputs": [],
   "source": [
    "import pandas as pd \n",
    "import numpy as np"
   ]
  },
  {
   "cell_type": "code",
   "execution_count": 27,
   "id": "81612e24",
   "metadata": {},
   "outputs": [],
   "source": [
    "import matplotlib.pyplot as plt\n",
    "from matplotlib import image\n",
    "from tqdm import tqdm\n"
   ]
  },
  {
   "cell_type": "markdown",
   "id": "9ea5fa80",
   "metadata": {},
   "source": [
    "### Loading Images using matplotlib"
   ]
  },
  {
   "cell_type": "code",
   "execution_count": 7,
   "id": "483d2cec",
   "metadata": {},
   "outputs": [],
   "source": [
    "img = image.imread(\"mnist_data/0/img_0.png\")\n",
    "img = img[:,:,2]"
   ]
  },
  {
   "cell_type": "code",
   "execution_count": 8,
   "id": "a928d211",
   "metadata": {},
   "outputs": [],
   "source": [
    "f_img = img.flatten()"
   ]
  },
  {
   "cell_type": "code",
   "execution_count": 9,
   "id": "aef2ed63",
   "metadata": {},
   "outputs": [],
   "source": [
    "img_arr = np.array(f_img)"
   ]
  },
  {
   "cell_type": "code",
   "execution_count": 11,
   "id": "fb908986",
   "metadata": {},
   "outputs": [
    {
     "data": {
      "text/plain": [
       "784"
      ]
     },
     "execution_count": 11,
     "metadata": {},
     "output_type": "execute_result"
    }
   ],
   "source": [
    "len(img_arr)"
   ]
  },
  {
   "cell_type": "markdown",
   "id": "e866af83",
   "metadata": {},
   "source": [
    "###  "
   ]
  },
  {
   "cell_type": "markdown",
   "id": "7351b2e6",
   "metadata": {},
   "source": [
    "### Creating A DataFrame"
   ]
  },
  {
   "cell_type": "code",
   "execution_count": null,
   "id": "509731c5",
   "metadata": {},
   "outputs": [],
   "source": []
  },
  {
   "cell_type": "code",
   "execution_count": 150,
   "id": "865b9f78",
   "metadata": {},
   "outputs": [
    {
     "name": "stderr",
     "output_type": "stream",
     "text": [
      "100%|██████████████████████████████████████████████████████████████████████████████████| 10/10 [09:21<00:00, 56.16s/it]\n"
     ]
    }
   ],
   "source": [
    "df= pd.DataFrame(columns=(np.arange(0,785)))\n",
    "df1= pd.DataFrame(columns=(np.arange(0,785)))\n",
    "df2= pd.DataFrame(columns=(np.arange(0,785)))\n",
    "df3= pd.DataFrame(columns=(np.arange(0,785)))\n",
    "df4= pd.DataFrame(columns=(np.arange(0,785)))\n",
    "df5= pd.DataFrame(columns=(np.arange(0,785)))\n",
    "df6= pd.DataFrame(columns=(np.arange(0,785)))\n",
    "df7= pd.DataFrame(columns=(np.arange(0,785)))\n",
    "df8= pd.DataFrame(columns=(np.arange(0,785)))\n",
    "df9= pd.DataFrame(columns=(np.arange(0,785)))\n",
    "\n",
    "for i in tqdm(range(10)):\n",
    "    if i == 0:\n",
    "        for j in range(4132):\n",
    "            img = image.imread(f\"mnist_data/{i}/img_{j}.png\")\n",
    "            d2 = img[:,:,2]\n",
    "            img_arr = d2.flatten()\n",
    "            df = df.append(pd.DataFrame(img_arr).T,ignore_index=True)\n",
    "        \n",
    "    elif i == 1:\n",
    "        for j in range(4684):\n",
    "            img = image.imread(f\"mnist_data/{i}/img_{j}.png\")\n",
    "            d2 = img[:,:,2]\n",
    "            img_arr = d2.flatten()\n",
    "            df1 = df1.append(pd.DataFrame(img_arr).T,ignore_index=True)\n",
    "    \n",
    "    elif i == 2:\n",
    "        for j in range(4177):\n",
    "            img = image.imread(f\"mnist_data/{i}/img_{j}.png\")\n",
    "            d2 = img[:,:,2]\n",
    "            img_arr = d2.flatten()\n",
    "            df2 = df2.append(pd.DataFrame(img_arr).T,ignore_index=True)\n",
    "            \n",
    "    elif i == 3:\n",
    "        for j in range(4351):\n",
    "            img = image.imread(f\"mnist_data/{i}/img_{j}.png\")\n",
    "            d2 = img[:,:,2]\n",
    "            img_arr = d2.flatten()\n",
    "            df3 = df3.append(pd.DataFrame(img_arr).T,ignore_index=True)\n",
    "        \n",
    "    elif i == 4:\n",
    "        for j in range(4072):\n",
    "            img = image.imread(f\"mnist_data/{i}/img_{j}.png\")\n",
    "            d2 = img[:,:,2]\n",
    "            img_arr = d2.flatten()\n",
    "            df4 = df4.append(pd.DataFrame(img_arr).T,ignore_index=True)\n",
    "    \n",
    "    elif i == 5:\n",
    "        for j in range(3795):\n",
    "            img = image.imread(f\"mnist_data/{i}/img_{j}.png\")\n",
    "            d2 = img[:,:,2]\n",
    "            img_arr = d2.flatten()\n",
    "            df5 = df5.append(pd.DataFrame(img_arr).T,ignore_index=True)\n",
    "            \n",
    "    elif i == 6:\n",
    "        for j in range(4137):\n",
    "            img = image.imread(f\"mnist_data/{i}/img_{j}.png\")\n",
    "            d2 = img[:,:,2]\n",
    "            img_arr = d2.flatten()\n",
    "            df6 = df6.append(pd.DataFrame(img_arr).T,ignore_index=True)\n",
    "        \n",
    "    elif i == 7:\n",
    "        for j in range(4401):\n",
    "            img = image.imread(f\"mnist_data/{i}/img_{j}.png\")\n",
    "            d2 = img[:,:,2]\n",
    "            img_arr = d2.flatten()\n",
    "            df7 = df7.append(pd.DataFrame(img_arr).T,ignore_index=True)        \n",
    "        \n",
    "    elif i == 8:\n",
    "        for j in range(4063):\n",
    "            img = image.imread(f\"mnist_data/{i}/img_{j}.png\")\n",
    "            d2 = img[:,:,2]\n",
    "            img_arr = d2.flatten()\n",
    "            df8 = df8.append(pd.DataFrame(img_arr).T,ignore_index=True)        \n",
    "\n",
    "    elif i == 9:\n",
    "        for j in range(4188):\n",
    "            img = image.imread(f\"mnist_data/{i}/img_{j}.png\")\n",
    "            d2 = img[:,:,2]\n",
    "            img_arr = d2.flatten()\n",
    "            df9 = df9.append(pd.DataFrame(img_arr).T,ignore_index=True)   \n",
    "    else:\n",
    "        pass\n",
    "    \n",
    "    \n",
    "    \n",
    "df[784] = 0\n",
    "df1[784] = 1\n",
    "df2[784] = 2\n",
    "df3[784] = 3\n",
    "df4[784] = 4\n",
    "df5[784] = 5\n",
    "df6[784] = 6\n",
    "df7[784] = 7\n",
    "df8[784] = 8\n",
    "df9[784] = 9      \n",
    "\n",
    "    \n",
    "\n",
    "\n"
   ]
  },
  {
   "cell_type": "code",
   "execution_count": null,
   "id": "21f2a1b4",
   "metadata": {},
   "outputs": [],
   "source": []
  },
  {
   "cell_type": "markdown",
   "id": "9e99c2ed",
   "metadata": {},
   "source": [
    "### checking DataFrames"
   ]
  },
  {
   "cell_type": "code",
   "execution_count": 155,
   "id": "cfb279ad",
   "metadata": {},
   "outputs": [
    {
     "data": {
      "text/html": [
       "<div>\n",
       "<style scoped>\n",
       "    .dataframe tbody tr th:only-of-type {\n",
       "        vertical-align: middle;\n",
       "    }\n",
       "\n",
       "    .dataframe tbody tr th {\n",
       "        vertical-align: top;\n",
       "    }\n",
       "\n",
       "    .dataframe thead th {\n",
       "        text-align: right;\n",
       "    }\n",
       "</style>\n",
       "<table border=\"1\" class=\"dataframe\">\n",
       "  <thead>\n",
       "    <tr style=\"text-align: right;\">\n",
       "      <th></th>\n",
       "      <th>0</th>\n",
       "      <th>1</th>\n",
       "      <th>2</th>\n",
       "      <th>3</th>\n",
       "      <th>4</th>\n",
       "      <th>5</th>\n",
       "      <th>6</th>\n",
       "      <th>7</th>\n",
       "      <th>8</th>\n",
       "      <th>9</th>\n",
       "      <th>...</th>\n",
       "      <th>775</th>\n",
       "      <th>776</th>\n",
       "      <th>777</th>\n",
       "      <th>778</th>\n",
       "      <th>779</th>\n",
       "      <th>780</th>\n",
       "      <th>781</th>\n",
       "      <th>782</th>\n",
       "      <th>783</th>\n",
       "      <th>784</th>\n",
       "    </tr>\n",
       "  </thead>\n",
       "  <tbody>\n",
       "    <tr>\n",
       "      <th>0</th>\n",
       "      <td>0.329412</td>\n",
       "      <td>0.329412</td>\n",
       "      <td>0.329412</td>\n",
       "      <td>0.329412</td>\n",
       "      <td>0.329412</td>\n",
       "      <td>0.329412</td>\n",
       "      <td>0.329412</td>\n",
       "      <td>0.329412</td>\n",
       "      <td>0.329412</td>\n",
       "      <td>0.329412</td>\n",
       "      <td>...</td>\n",
       "      <td>0.329412</td>\n",
       "      <td>0.329412</td>\n",
       "      <td>0.329412</td>\n",
       "      <td>0.329412</td>\n",
       "      <td>0.329412</td>\n",
       "      <td>0.329412</td>\n",
       "      <td>0.329412</td>\n",
       "      <td>0.329412</td>\n",
       "      <td>0.329412</td>\n",
       "      <td>0</td>\n",
       "    </tr>\n",
       "  </tbody>\n",
       "</table>\n",
       "<p>1 rows × 785 columns</p>\n",
       "</div>"
      ],
      "text/plain": [
       "        0         1         2         3         4         5         6    \\\n",
       "0  0.329412  0.329412  0.329412  0.329412  0.329412  0.329412  0.329412   \n",
       "\n",
       "        7         8         9    ...       775       776       777       778  \\\n",
       "0  0.329412  0.329412  0.329412  ...  0.329412  0.329412  0.329412  0.329412   \n",
       "\n",
       "        779       780       781       782       783  784  \n",
       "0  0.329412  0.329412  0.329412  0.329412  0.329412    0  \n",
       "\n",
       "[1 rows x 785 columns]"
      ]
     },
     "execution_count": 155,
     "metadata": {},
     "output_type": "execute_result"
    }
   ],
   "source": [
    "df.head(1)"
   ]
  },
  {
   "cell_type": "code",
   "execution_count": 167,
   "id": "98bf668b",
   "metadata": {},
   "outputs": [
    {
     "data": {
      "text/html": [
       "<div>\n",
       "<style scoped>\n",
       "    .dataframe tbody tr th:only-of-type {\n",
       "        vertical-align: middle;\n",
       "    }\n",
       "\n",
       "    .dataframe tbody tr th {\n",
       "        vertical-align: top;\n",
       "    }\n",
       "\n",
       "    .dataframe thead th {\n",
       "        text-align: right;\n",
       "    }\n",
       "</style>\n",
       "<table border=\"1\" class=\"dataframe\">\n",
       "  <thead>\n",
       "    <tr style=\"text-align: right;\">\n",
       "      <th></th>\n",
       "      <th>0</th>\n",
       "      <th>1</th>\n",
       "      <th>2</th>\n",
       "      <th>3</th>\n",
       "      <th>4</th>\n",
       "      <th>5</th>\n",
       "      <th>6</th>\n",
       "      <th>7</th>\n",
       "      <th>8</th>\n",
       "      <th>9</th>\n",
       "      <th>...</th>\n",
       "      <th>775</th>\n",
       "      <th>776</th>\n",
       "      <th>777</th>\n",
       "      <th>778</th>\n",
       "      <th>779</th>\n",
       "      <th>780</th>\n",
       "      <th>781</th>\n",
       "      <th>782</th>\n",
       "      <th>783</th>\n",
       "      <th>784</th>\n",
       "    </tr>\n",
       "  </thead>\n",
       "  <tbody>\n",
       "    <tr>\n",
       "      <th>0</th>\n",
       "      <td>0.329412</td>\n",
       "      <td>0.329412</td>\n",
       "      <td>0.329412</td>\n",
       "      <td>0.329412</td>\n",
       "      <td>0.329412</td>\n",
       "      <td>0.329412</td>\n",
       "      <td>0.329412</td>\n",
       "      <td>0.329412</td>\n",
       "      <td>0.329412</td>\n",
       "      <td>0.329412</td>\n",
       "      <td>...</td>\n",
       "      <td>0.329412</td>\n",
       "      <td>0.329412</td>\n",
       "      <td>0.329412</td>\n",
       "      <td>0.329412</td>\n",
       "      <td>0.329412</td>\n",
       "      <td>0.329412</td>\n",
       "      <td>0.329412</td>\n",
       "      <td>0.329412</td>\n",
       "      <td>0.329412</td>\n",
       "      <td>1</td>\n",
       "    </tr>\n",
       "  </tbody>\n",
       "</table>\n",
       "<p>1 rows × 785 columns</p>\n",
       "</div>"
      ],
      "text/plain": [
       "        0         1         2         3         4         5         6    \\\n",
       "0  0.329412  0.329412  0.329412  0.329412  0.329412  0.329412  0.329412   \n",
       "\n",
       "        7         8         9    ...       775       776       777       778  \\\n",
       "0  0.329412  0.329412  0.329412  ...  0.329412  0.329412  0.329412  0.329412   \n",
       "\n",
       "        779       780       781       782       783  784  \n",
       "0  0.329412  0.329412  0.329412  0.329412  0.329412    1  \n",
       "\n",
       "[1 rows x 785 columns]"
      ]
     },
     "execution_count": 167,
     "metadata": {},
     "output_type": "execute_result"
    }
   ],
   "source": [
    "df1.head(1)"
   ]
  },
  {
   "cell_type": "code",
   "execution_count": 168,
   "id": "449c2502",
   "metadata": {},
   "outputs": [
    {
     "data": {
      "text/html": [
       "<div>\n",
       "<style scoped>\n",
       "    .dataframe tbody tr th:only-of-type {\n",
       "        vertical-align: middle;\n",
       "    }\n",
       "\n",
       "    .dataframe tbody tr th {\n",
       "        vertical-align: top;\n",
       "    }\n",
       "\n",
       "    .dataframe thead th {\n",
       "        text-align: right;\n",
       "    }\n",
       "</style>\n",
       "<table border=\"1\" class=\"dataframe\">\n",
       "  <thead>\n",
       "    <tr style=\"text-align: right;\">\n",
       "      <th></th>\n",
       "      <th>0</th>\n",
       "      <th>1</th>\n",
       "      <th>2</th>\n",
       "      <th>3</th>\n",
       "      <th>4</th>\n",
       "      <th>5</th>\n",
       "      <th>6</th>\n",
       "      <th>7</th>\n",
       "      <th>8</th>\n",
       "      <th>9</th>\n",
       "      <th>...</th>\n",
       "      <th>775</th>\n",
       "      <th>776</th>\n",
       "      <th>777</th>\n",
       "      <th>778</th>\n",
       "      <th>779</th>\n",
       "      <th>780</th>\n",
       "      <th>781</th>\n",
       "      <th>782</th>\n",
       "      <th>783</th>\n",
       "      <th>784</th>\n",
       "    </tr>\n",
       "  </thead>\n",
       "  <tbody>\n",
       "    <tr>\n",
       "      <th>0</th>\n",
       "      <td>0.329412</td>\n",
       "      <td>0.329412</td>\n",
       "      <td>0.329412</td>\n",
       "      <td>0.329412</td>\n",
       "      <td>0.329412</td>\n",
       "      <td>0.329412</td>\n",
       "      <td>0.329412</td>\n",
       "      <td>0.329412</td>\n",
       "      <td>0.329412</td>\n",
       "      <td>0.329412</td>\n",
       "      <td>...</td>\n",
       "      <td>0.329412</td>\n",
       "      <td>0.329412</td>\n",
       "      <td>0.329412</td>\n",
       "      <td>0.329412</td>\n",
       "      <td>0.329412</td>\n",
       "      <td>0.329412</td>\n",
       "      <td>0.329412</td>\n",
       "      <td>0.329412</td>\n",
       "      <td>0.329412</td>\n",
       "      <td>2</td>\n",
       "    </tr>\n",
       "  </tbody>\n",
       "</table>\n",
       "<p>1 rows × 785 columns</p>\n",
       "</div>"
      ],
      "text/plain": [
       "        0         1         2         3         4         5         6    \\\n",
       "0  0.329412  0.329412  0.329412  0.329412  0.329412  0.329412  0.329412   \n",
       "\n",
       "        7         8         9    ...       775       776       777       778  \\\n",
       "0  0.329412  0.329412  0.329412  ...  0.329412  0.329412  0.329412  0.329412   \n",
       "\n",
       "        779       780       781       782       783  784  \n",
       "0  0.329412  0.329412  0.329412  0.329412  0.329412    2  \n",
       "\n",
       "[1 rows x 785 columns]"
      ]
     },
     "execution_count": 168,
     "metadata": {},
     "output_type": "execute_result"
    }
   ],
   "source": [
    "df2.head(1)"
   ]
  },
  {
   "cell_type": "code",
   "execution_count": 169,
   "id": "16a721fa",
   "metadata": {},
   "outputs": [
    {
     "data": {
      "text/html": [
       "<div>\n",
       "<style scoped>\n",
       "    .dataframe tbody tr th:only-of-type {\n",
       "        vertical-align: middle;\n",
       "    }\n",
       "\n",
       "    .dataframe tbody tr th {\n",
       "        vertical-align: top;\n",
       "    }\n",
       "\n",
       "    .dataframe thead th {\n",
       "        text-align: right;\n",
       "    }\n",
       "</style>\n",
       "<table border=\"1\" class=\"dataframe\">\n",
       "  <thead>\n",
       "    <tr style=\"text-align: right;\">\n",
       "      <th></th>\n",
       "      <th>0</th>\n",
       "      <th>1</th>\n",
       "      <th>2</th>\n",
       "      <th>3</th>\n",
       "      <th>4</th>\n",
       "      <th>5</th>\n",
       "      <th>6</th>\n",
       "      <th>7</th>\n",
       "      <th>8</th>\n",
       "      <th>9</th>\n",
       "      <th>...</th>\n",
       "      <th>775</th>\n",
       "      <th>776</th>\n",
       "      <th>777</th>\n",
       "      <th>778</th>\n",
       "      <th>779</th>\n",
       "      <th>780</th>\n",
       "      <th>781</th>\n",
       "      <th>782</th>\n",
       "      <th>783</th>\n",
       "      <th>784</th>\n",
       "    </tr>\n",
       "  </thead>\n",
       "  <tbody>\n",
       "    <tr>\n",
       "      <th>0</th>\n",
       "      <td>0.329412</td>\n",
       "      <td>0.329412</td>\n",
       "      <td>0.329412</td>\n",
       "      <td>0.329412</td>\n",
       "      <td>0.329412</td>\n",
       "      <td>0.329412</td>\n",
       "      <td>0.329412</td>\n",
       "      <td>0.329412</td>\n",
       "      <td>0.329412</td>\n",
       "      <td>0.329412</td>\n",
       "      <td>...</td>\n",
       "      <td>0.329412</td>\n",
       "      <td>0.329412</td>\n",
       "      <td>0.329412</td>\n",
       "      <td>0.329412</td>\n",
       "      <td>0.329412</td>\n",
       "      <td>0.329412</td>\n",
       "      <td>0.329412</td>\n",
       "      <td>0.329412</td>\n",
       "      <td>0.329412</td>\n",
       "      <td>3</td>\n",
       "    </tr>\n",
       "  </tbody>\n",
       "</table>\n",
       "<p>1 rows × 785 columns</p>\n",
       "</div>"
      ],
      "text/plain": [
       "        0         1         2         3         4         5         6    \\\n",
       "0  0.329412  0.329412  0.329412  0.329412  0.329412  0.329412  0.329412   \n",
       "\n",
       "        7         8         9    ...       775       776       777       778  \\\n",
       "0  0.329412  0.329412  0.329412  ...  0.329412  0.329412  0.329412  0.329412   \n",
       "\n",
       "        779       780       781       782       783  784  \n",
       "0  0.329412  0.329412  0.329412  0.329412  0.329412    3  \n",
       "\n",
       "[1 rows x 785 columns]"
      ]
     },
     "execution_count": 169,
     "metadata": {},
     "output_type": "execute_result"
    }
   ],
   "source": [
    "df3.head(1)"
   ]
  },
  {
   "cell_type": "code",
   "execution_count": 170,
   "id": "c81df3d3",
   "metadata": {},
   "outputs": [
    {
     "data": {
      "text/html": [
       "<div>\n",
       "<style scoped>\n",
       "    .dataframe tbody tr th:only-of-type {\n",
       "        vertical-align: middle;\n",
       "    }\n",
       "\n",
       "    .dataframe tbody tr th {\n",
       "        vertical-align: top;\n",
       "    }\n",
       "\n",
       "    .dataframe thead th {\n",
       "        text-align: right;\n",
       "    }\n",
       "</style>\n",
       "<table border=\"1\" class=\"dataframe\">\n",
       "  <thead>\n",
       "    <tr style=\"text-align: right;\">\n",
       "      <th></th>\n",
       "      <th>0</th>\n",
       "      <th>1</th>\n",
       "      <th>2</th>\n",
       "      <th>3</th>\n",
       "      <th>4</th>\n",
       "      <th>5</th>\n",
       "      <th>6</th>\n",
       "      <th>7</th>\n",
       "      <th>8</th>\n",
       "      <th>9</th>\n",
       "      <th>...</th>\n",
       "      <th>775</th>\n",
       "      <th>776</th>\n",
       "      <th>777</th>\n",
       "      <th>778</th>\n",
       "      <th>779</th>\n",
       "      <th>780</th>\n",
       "      <th>781</th>\n",
       "      <th>782</th>\n",
       "      <th>783</th>\n",
       "      <th>784</th>\n",
       "    </tr>\n",
       "  </thead>\n",
       "  <tbody>\n",
       "    <tr>\n",
       "      <th>0</th>\n",
       "      <td>0.329412</td>\n",
       "      <td>0.329412</td>\n",
       "      <td>0.329412</td>\n",
       "      <td>0.329412</td>\n",
       "      <td>0.329412</td>\n",
       "      <td>0.329412</td>\n",
       "      <td>0.329412</td>\n",
       "      <td>0.329412</td>\n",
       "      <td>0.329412</td>\n",
       "      <td>0.329412</td>\n",
       "      <td>...</td>\n",
       "      <td>0.329412</td>\n",
       "      <td>0.329412</td>\n",
       "      <td>0.329412</td>\n",
       "      <td>0.329412</td>\n",
       "      <td>0.329412</td>\n",
       "      <td>0.329412</td>\n",
       "      <td>0.329412</td>\n",
       "      <td>0.329412</td>\n",
       "      <td>0.329412</td>\n",
       "      <td>4</td>\n",
       "    </tr>\n",
       "  </tbody>\n",
       "</table>\n",
       "<p>1 rows × 785 columns</p>\n",
       "</div>"
      ],
      "text/plain": [
       "        0         1         2         3         4         5         6    \\\n",
       "0  0.329412  0.329412  0.329412  0.329412  0.329412  0.329412  0.329412   \n",
       "\n",
       "        7         8         9    ...       775       776       777       778  \\\n",
       "0  0.329412  0.329412  0.329412  ...  0.329412  0.329412  0.329412  0.329412   \n",
       "\n",
       "        779       780       781       782       783  784  \n",
       "0  0.329412  0.329412  0.329412  0.329412  0.329412    4  \n",
       "\n",
       "[1 rows x 785 columns]"
      ]
     },
     "execution_count": 170,
     "metadata": {},
     "output_type": "execute_result"
    }
   ],
   "source": [
    "df4.head(1)"
   ]
  },
  {
   "cell_type": "code",
   "execution_count": 171,
   "id": "4d461f37",
   "metadata": {},
   "outputs": [
    {
     "data": {
      "text/html": [
       "<div>\n",
       "<style scoped>\n",
       "    .dataframe tbody tr th:only-of-type {\n",
       "        vertical-align: middle;\n",
       "    }\n",
       "\n",
       "    .dataframe tbody tr th {\n",
       "        vertical-align: top;\n",
       "    }\n",
       "\n",
       "    .dataframe thead th {\n",
       "        text-align: right;\n",
       "    }\n",
       "</style>\n",
       "<table border=\"1\" class=\"dataframe\">\n",
       "  <thead>\n",
       "    <tr style=\"text-align: right;\">\n",
       "      <th></th>\n",
       "      <th>0</th>\n",
       "      <th>1</th>\n",
       "      <th>2</th>\n",
       "      <th>3</th>\n",
       "      <th>4</th>\n",
       "      <th>5</th>\n",
       "      <th>6</th>\n",
       "      <th>7</th>\n",
       "      <th>8</th>\n",
       "      <th>9</th>\n",
       "      <th>...</th>\n",
       "      <th>775</th>\n",
       "      <th>776</th>\n",
       "      <th>777</th>\n",
       "      <th>778</th>\n",
       "      <th>779</th>\n",
       "      <th>780</th>\n",
       "      <th>781</th>\n",
       "      <th>782</th>\n",
       "      <th>783</th>\n",
       "      <th>784</th>\n",
       "    </tr>\n",
       "  </thead>\n",
       "  <tbody>\n",
       "    <tr>\n",
       "      <th>0</th>\n",
       "      <td>0.329412</td>\n",
       "      <td>0.329412</td>\n",
       "      <td>0.329412</td>\n",
       "      <td>0.329412</td>\n",
       "      <td>0.329412</td>\n",
       "      <td>0.329412</td>\n",
       "      <td>0.329412</td>\n",
       "      <td>0.329412</td>\n",
       "      <td>0.329412</td>\n",
       "      <td>0.329412</td>\n",
       "      <td>...</td>\n",
       "      <td>0.329412</td>\n",
       "      <td>0.329412</td>\n",
       "      <td>0.329412</td>\n",
       "      <td>0.329412</td>\n",
       "      <td>0.329412</td>\n",
       "      <td>0.329412</td>\n",
       "      <td>0.329412</td>\n",
       "      <td>0.329412</td>\n",
       "      <td>0.329412</td>\n",
       "      <td>5</td>\n",
       "    </tr>\n",
       "  </tbody>\n",
       "</table>\n",
       "<p>1 rows × 785 columns</p>\n",
       "</div>"
      ],
      "text/plain": [
       "        0         1         2         3         4         5         6    \\\n",
       "0  0.329412  0.329412  0.329412  0.329412  0.329412  0.329412  0.329412   \n",
       "\n",
       "        7         8         9    ...       775       776       777       778  \\\n",
       "0  0.329412  0.329412  0.329412  ...  0.329412  0.329412  0.329412  0.329412   \n",
       "\n",
       "        779       780       781       782       783  784  \n",
       "0  0.329412  0.329412  0.329412  0.329412  0.329412    5  \n",
       "\n",
       "[1 rows x 785 columns]"
      ]
     },
     "execution_count": 171,
     "metadata": {},
     "output_type": "execute_result"
    }
   ],
   "source": [
    "df5.head(1)"
   ]
  },
  {
   "cell_type": "code",
   "execution_count": 172,
   "id": "c2a23526",
   "metadata": {},
   "outputs": [
    {
     "data": {
      "text/html": [
       "<div>\n",
       "<style scoped>\n",
       "    .dataframe tbody tr th:only-of-type {\n",
       "        vertical-align: middle;\n",
       "    }\n",
       "\n",
       "    .dataframe tbody tr th {\n",
       "        vertical-align: top;\n",
       "    }\n",
       "\n",
       "    .dataframe thead th {\n",
       "        text-align: right;\n",
       "    }\n",
       "</style>\n",
       "<table border=\"1\" class=\"dataframe\">\n",
       "  <thead>\n",
       "    <tr style=\"text-align: right;\">\n",
       "      <th></th>\n",
       "      <th>0</th>\n",
       "      <th>1</th>\n",
       "      <th>2</th>\n",
       "      <th>3</th>\n",
       "      <th>4</th>\n",
       "      <th>5</th>\n",
       "      <th>6</th>\n",
       "      <th>7</th>\n",
       "      <th>8</th>\n",
       "      <th>9</th>\n",
       "      <th>...</th>\n",
       "      <th>775</th>\n",
       "      <th>776</th>\n",
       "      <th>777</th>\n",
       "      <th>778</th>\n",
       "      <th>779</th>\n",
       "      <th>780</th>\n",
       "      <th>781</th>\n",
       "      <th>782</th>\n",
       "      <th>783</th>\n",
       "      <th>784</th>\n",
       "    </tr>\n",
       "  </thead>\n",
       "  <tbody>\n",
       "    <tr>\n",
       "      <th>0</th>\n",
       "      <td>0.329412</td>\n",
       "      <td>0.329412</td>\n",
       "      <td>0.329412</td>\n",
       "      <td>0.329412</td>\n",
       "      <td>0.329412</td>\n",
       "      <td>0.329412</td>\n",
       "      <td>0.329412</td>\n",
       "      <td>0.329412</td>\n",
       "      <td>0.329412</td>\n",
       "      <td>0.329412</td>\n",
       "      <td>...</td>\n",
       "      <td>0.329412</td>\n",
       "      <td>0.329412</td>\n",
       "      <td>0.329412</td>\n",
       "      <td>0.329412</td>\n",
       "      <td>0.329412</td>\n",
       "      <td>0.329412</td>\n",
       "      <td>0.329412</td>\n",
       "      <td>0.329412</td>\n",
       "      <td>0.329412</td>\n",
       "      <td>6</td>\n",
       "    </tr>\n",
       "  </tbody>\n",
       "</table>\n",
       "<p>1 rows × 785 columns</p>\n",
       "</div>"
      ],
      "text/plain": [
       "        0         1         2         3         4         5         6    \\\n",
       "0  0.329412  0.329412  0.329412  0.329412  0.329412  0.329412  0.329412   \n",
       "\n",
       "        7         8         9    ...       775       776       777       778  \\\n",
       "0  0.329412  0.329412  0.329412  ...  0.329412  0.329412  0.329412  0.329412   \n",
       "\n",
       "        779       780       781       782       783  784  \n",
       "0  0.329412  0.329412  0.329412  0.329412  0.329412    6  \n",
       "\n",
       "[1 rows x 785 columns]"
      ]
     },
     "execution_count": 172,
     "metadata": {},
     "output_type": "execute_result"
    }
   ],
   "source": [
    "df6.head(1)"
   ]
  },
  {
   "cell_type": "code",
   "execution_count": 173,
   "id": "5b72f4ed",
   "metadata": {},
   "outputs": [
    {
     "data": {
      "text/html": [
       "<div>\n",
       "<style scoped>\n",
       "    .dataframe tbody tr th:only-of-type {\n",
       "        vertical-align: middle;\n",
       "    }\n",
       "\n",
       "    .dataframe tbody tr th {\n",
       "        vertical-align: top;\n",
       "    }\n",
       "\n",
       "    .dataframe thead th {\n",
       "        text-align: right;\n",
       "    }\n",
       "</style>\n",
       "<table border=\"1\" class=\"dataframe\">\n",
       "  <thead>\n",
       "    <tr style=\"text-align: right;\">\n",
       "      <th></th>\n",
       "      <th>0</th>\n",
       "      <th>1</th>\n",
       "      <th>2</th>\n",
       "      <th>3</th>\n",
       "      <th>4</th>\n",
       "      <th>5</th>\n",
       "      <th>6</th>\n",
       "      <th>7</th>\n",
       "      <th>8</th>\n",
       "      <th>9</th>\n",
       "      <th>...</th>\n",
       "      <th>775</th>\n",
       "      <th>776</th>\n",
       "      <th>777</th>\n",
       "      <th>778</th>\n",
       "      <th>779</th>\n",
       "      <th>780</th>\n",
       "      <th>781</th>\n",
       "      <th>782</th>\n",
       "      <th>783</th>\n",
       "      <th>784</th>\n",
       "    </tr>\n",
       "  </thead>\n",
       "  <tbody>\n",
       "    <tr>\n",
       "      <th>0</th>\n",
       "      <td>0.329412</td>\n",
       "      <td>0.329412</td>\n",
       "      <td>0.329412</td>\n",
       "      <td>0.329412</td>\n",
       "      <td>0.329412</td>\n",
       "      <td>0.329412</td>\n",
       "      <td>0.329412</td>\n",
       "      <td>0.329412</td>\n",
       "      <td>0.329412</td>\n",
       "      <td>0.329412</td>\n",
       "      <td>...</td>\n",
       "      <td>0.329412</td>\n",
       "      <td>0.329412</td>\n",
       "      <td>0.329412</td>\n",
       "      <td>0.329412</td>\n",
       "      <td>0.329412</td>\n",
       "      <td>0.329412</td>\n",
       "      <td>0.329412</td>\n",
       "      <td>0.329412</td>\n",
       "      <td>0.329412</td>\n",
       "      <td>7</td>\n",
       "    </tr>\n",
       "  </tbody>\n",
       "</table>\n",
       "<p>1 rows × 785 columns</p>\n",
       "</div>"
      ],
      "text/plain": [
       "        0         1         2         3         4         5         6    \\\n",
       "0  0.329412  0.329412  0.329412  0.329412  0.329412  0.329412  0.329412   \n",
       "\n",
       "        7         8         9    ...       775       776       777       778  \\\n",
       "0  0.329412  0.329412  0.329412  ...  0.329412  0.329412  0.329412  0.329412   \n",
       "\n",
       "        779       780       781       782       783  784  \n",
       "0  0.329412  0.329412  0.329412  0.329412  0.329412    7  \n",
       "\n",
       "[1 rows x 785 columns]"
      ]
     },
     "execution_count": 173,
     "metadata": {},
     "output_type": "execute_result"
    }
   ],
   "source": [
    "df7.head(1)"
   ]
  },
  {
   "cell_type": "code",
   "execution_count": 178,
   "id": "293be5b7",
   "metadata": {},
   "outputs": [
    {
     "data": {
      "text/html": [
       "<div>\n",
       "<style scoped>\n",
       "    .dataframe tbody tr th:only-of-type {\n",
       "        vertical-align: middle;\n",
       "    }\n",
       "\n",
       "    .dataframe tbody tr th {\n",
       "        vertical-align: top;\n",
       "    }\n",
       "\n",
       "    .dataframe thead th {\n",
       "        text-align: right;\n",
       "    }\n",
       "</style>\n",
       "<table border=\"1\" class=\"dataframe\">\n",
       "  <thead>\n",
       "    <tr style=\"text-align: right;\">\n",
       "      <th></th>\n",
       "      <th>0</th>\n",
       "      <th>1</th>\n",
       "      <th>2</th>\n",
       "      <th>3</th>\n",
       "      <th>4</th>\n",
       "      <th>5</th>\n",
       "      <th>6</th>\n",
       "      <th>7</th>\n",
       "      <th>8</th>\n",
       "      <th>9</th>\n",
       "      <th>...</th>\n",
       "      <th>775</th>\n",
       "      <th>776</th>\n",
       "      <th>777</th>\n",
       "      <th>778</th>\n",
       "      <th>779</th>\n",
       "      <th>780</th>\n",
       "      <th>781</th>\n",
       "      <th>782</th>\n",
       "      <th>783</th>\n",
       "      <th>784</th>\n",
       "    </tr>\n",
       "  </thead>\n",
       "  <tbody>\n",
       "    <tr>\n",
       "      <th>0</th>\n",
       "      <td>0.329412</td>\n",
       "      <td>0.329412</td>\n",
       "      <td>0.329412</td>\n",
       "      <td>0.329412</td>\n",
       "      <td>0.329412</td>\n",
       "      <td>0.329412</td>\n",
       "      <td>0.329412</td>\n",
       "      <td>0.329412</td>\n",
       "      <td>0.329412</td>\n",
       "      <td>0.329412</td>\n",
       "      <td>...</td>\n",
       "      <td>0.329412</td>\n",
       "      <td>0.329412</td>\n",
       "      <td>0.329412</td>\n",
       "      <td>0.329412</td>\n",
       "      <td>0.329412</td>\n",
       "      <td>0.329412</td>\n",
       "      <td>0.329412</td>\n",
       "      <td>0.329412</td>\n",
       "      <td>0.329412</td>\n",
       "      <td>8</td>\n",
       "    </tr>\n",
       "  </tbody>\n",
       "</table>\n",
       "<p>1 rows × 785 columns</p>\n",
       "</div>"
      ],
      "text/plain": [
       "        0         1         2         3         4         5         6    \\\n",
       "0  0.329412  0.329412  0.329412  0.329412  0.329412  0.329412  0.329412   \n",
       "\n",
       "        7         8         9    ...       775       776       777       778  \\\n",
       "0  0.329412  0.329412  0.329412  ...  0.329412  0.329412  0.329412  0.329412   \n",
       "\n",
       "        779       780       781       782       783  784  \n",
       "0  0.329412  0.329412  0.329412  0.329412  0.329412    8  \n",
       "\n",
       "[1 rows x 785 columns]"
      ]
     },
     "execution_count": 178,
     "metadata": {},
     "output_type": "execute_result"
    }
   ],
   "source": [
    "df8.head(1)\n"
   ]
  },
  {
   "cell_type": "code",
   "execution_count": 175,
   "id": "afffbd27",
   "metadata": {},
   "outputs": [
    {
     "data": {
      "text/html": [
       "<div>\n",
       "<style scoped>\n",
       "    .dataframe tbody tr th:only-of-type {\n",
       "        vertical-align: middle;\n",
       "    }\n",
       "\n",
       "    .dataframe tbody tr th {\n",
       "        vertical-align: top;\n",
       "    }\n",
       "\n",
       "    .dataframe thead th {\n",
       "        text-align: right;\n",
       "    }\n",
       "</style>\n",
       "<table border=\"1\" class=\"dataframe\">\n",
       "  <thead>\n",
       "    <tr style=\"text-align: right;\">\n",
       "      <th></th>\n",
       "      <th>0</th>\n",
       "      <th>1</th>\n",
       "      <th>2</th>\n",
       "      <th>3</th>\n",
       "      <th>4</th>\n",
       "      <th>5</th>\n",
       "      <th>6</th>\n",
       "      <th>7</th>\n",
       "      <th>8</th>\n",
       "      <th>9</th>\n",
       "      <th>...</th>\n",
       "      <th>775</th>\n",
       "      <th>776</th>\n",
       "      <th>777</th>\n",
       "      <th>778</th>\n",
       "      <th>779</th>\n",
       "      <th>780</th>\n",
       "      <th>781</th>\n",
       "      <th>782</th>\n",
       "      <th>783</th>\n",
       "      <th>784</th>\n",
       "    </tr>\n",
       "  </thead>\n",
       "  <tbody>\n",
       "    <tr>\n",
       "      <th>0</th>\n",
       "      <td>0.329412</td>\n",
       "      <td>0.329412</td>\n",
       "      <td>0.329412</td>\n",
       "      <td>0.329412</td>\n",
       "      <td>0.329412</td>\n",
       "      <td>0.329412</td>\n",
       "      <td>0.329412</td>\n",
       "      <td>0.329412</td>\n",
       "      <td>0.329412</td>\n",
       "      <td>0.329412</td>\n",
       "      <td>...</td>\n",
       "      <td>0.329412</td>\n",
       "      <td>0.329412</td>\n",
       "      <td>0.329412</td>\n",
       "      <td>0.329412</td>\n",
       "      <td>0.329412</td>\n",
       "      <td>0.329412</td>\n",
       "      <td>0.329412</td>\n",
       "      <td>0.329412</td>\n",
       "      <td>0.329412</td>\n",
       "      <td>9</td>\n",
       "    </tr>\n",
       "  </tbody>\n",
       "</table>\n",
       "<p>1 rows × 785 columns</p>\n",
       "</div>"
      ],
      "text/plain": [
       "        0         1         2         3         4         5         6    \\\n",
       "0  0.329412  0.329412  0.329412  0.329412  0.329412  0.329412  0.329412   \n",
       "\n",
       "        7         8         9    ...       775       776       777       778  \\\n",
       "0  0.329412  0.329412  0.329412  ...  0.329412  0.329412  0.329412  0.329412   \n",
       "\n",
       "        779       780       781       782       783  784  \n",
       "0  0.329412  0.329412  0.329412  0.329412  0.329412    9  \n",
       "\n",
       "[1 rows x 785 columns]"
      ]
     },
     "execution_count": 175,
     "metadata": {},
     "output_type": "execute_result"
    }
   ],
   "source": [
    "df9.head(1)"
   ]
  },
  {
   "cell_type": "markdown",
   "id": "d818aa89",
   "metadata": {},
   "source": [
    "### "
   ]
  },
  {
   "cell_type": "markdown",
   "id": "fa3089a2",
   "metadata": {},
   "source": [
    "### Cross checking DataFrames with correct images"
   ]
  },
  {
   "cell_type": "code",
   "execution_count": 183,
   "id": "ec8ea1a6",
   "metadata": {},
   "outputs": [
    {
     "data": {
      "image/png": "[encoded data removed]",
      "text/plain": [
       "<Figure size 432x288 with 5 Axes>"
      ]
     },
     "metadata": {
      "needs_background": "light"
     },
     "output_type": "display_data"
    }
   ],
   "source": [
    "for i, j in enumerate(np.random.randint(0,784,5)):\n",
    "    x = np.array(df.iloc[j,:784])\n",
    "    y = np.reshape(x,(28,28))\n",
    "    plt.subplot(1,5,i+1)\n",
    "    #print(i)\n",
    "    plt.imshow(y)"
   ]
  },
  {
   "cell_type": "code",
   "execution_count": 184,
   "id": "54186e6b",
   "metadata": {},
   "outputs": [
    {
     "data": {
      "image/png": "[encoded data removed]",
      "text/plain": [
       "<Figure size 432x288 with 5 Axes>"
      ]
     },
     "metadata": {
      "needs_background": "light"
     },
     "output_type": "display_data"
    }
   ],
   "source": [
    "for i, j in enumerate(np.random.randint(0,784,5)):\n",
    "    x = np.array(df1.iloc[j,:784])\n",
    "    y = np.reshape(x,(28,28))\n",
    "    plt.subplot(1,5,i+1)\n",
    "    #print(i)\n",
    "    plt.imshow(y)"
   ]
  },
  {
   "cell_type": "code",
   "execution_count": 187,
   "id": "d9d55667",
   "metadata": {},
   "outputs": [
    {
     "data": {
      "image/png": "[encoded data removed]",
      "text/plain": [
       "<Figure size 432x288 with 5 Axes>"
      ]
     },
     "metadata": {
      "needs_background": "light"
     },
     "output_type": "display_data"
    }
   ],
   "source": [
    "for i, j in enumerate(np.random.randint(0,784,5)):\n",
    "    x = np.array(df2.iloc[j,:784])\n",
    "    y = np.reshape(x,(28,28))\n",
    "    plt.subplot(1,5,i+1)\n",
    "    #print(i)\n",
    "    plt.imshow(y)"
   ]
  },
  {
   "cell_type": "code",
   "execution_count": 188,
   "id": "6e155089",
   "metadata": {},
   "outputs": [
    {
     "data": {
      "image/png": "[encoded data removed]",
      "text/plain": [
       "<Figure size 432x288 with 5 Axes>"
      ]
     },
     "metadata": {
      "needs_background": "light"
     },
     "output_type": "display_data"
    }
   ],
   "source": [
    "for i, j in enumerate(np.random.randint(0,784,5)):\n",
    "    x = np.array(df3.iloc[j,:784])\n",
    "    y = np.reshape(x,(28,28))\n",
    "    plt.subplot(1,5,i+1)\n",
    "    #print(i)\n",
    "    plt.imshow(y)"
   ]
  },
  {
   "cell_type": "code",
   "execution_count": 189,
   "id": "f9c7e948",
   "metadata": {},
   "outputs": [
    {
     "data": {
      "image/png": "[encoded data removed]",
      "text/plain": [
       "<Figure size 432x288 with 5 Axes>"
      ]
     },
     "metadata": {
      "needs_background": "light"
     },
     "output_type": "display_data"
    }
   ],
   "source": [
    "for i, j in enumerate(np.random.randint(0,784,5)):\n",
    "    x = np.array(df4.iloc[j,:784])\n",
    "    y = np.reshape(x,(28,28))\n",
    "    plt.subplot(1,5,i+1)\n",
    "    #print(i)\n",
    "    plt.imshow(y)"
   ]
  },
  {
   "cell_type": "code",
   "execution_count": 190,
   "id": "b60be68d",
   "metadata": {},
   "outputs": [
    {
     "data": {
      "image/png": "[encoded data removed]",
      "text/plain": [
       "<Figure size 432x288 with 5 Axes>"
      ]
     },
     "metadata": {
      "needs_background": "light"
     },
     "output_type": "display_data"
    }
   ],
   "source": [
    "for i, j in enumerate(np.random.randint(0,784,5)):\n",
    "    x = np.array(df5.iloc[j,:784])\n",
    "    y = np.reshape(x,(28,28))\n",
    "    plt.subplot(1,5,i+1)\n",
    "    #print(i)\n",
    "    plt.imshow(y)"
   ]
  },
  {
   "cell_type": "code",
   "execution_count": 192,
   "id": "22416f67",
   "metadata": {},
   "outputs": [
    {
     "data": {
      "image/png": "[encoded data removed]",
      "text/plain": [
       "<Figure size 432x288 with 5 Axes>"
      ]
     },
     "metadata": {
      "needs_background": "light"
     },
     "output_type": "display_data"
    }
   ],
   "source": [
    "for i, j in enumerate(np.random.randint(0,784,5)):\n",
    "    x = np.array(df6.iloc[j,:784])\n",
    "    y = np.reshape(x,(28,28))\n",
    "    plt.subplot(1,5,i+1)\n",
    "    #print(i)\n",
    "    plt.imshow(y)"
   ]
  },
  {
   "cell_type": "code",
   "execution_count": 193,
   "id": "32ec155d",
   "metadata": {},
   "outputs": [
    {
     "data": {
      "image/png": "[encoded data removed]",
      "text/plain": [
       "<Figure size 432x288 with 5 Axes>"
      ]
     },
     "metadata": {
      "needs_background": "light"
     },
     "output_type": "display_data"
    }
   ],
   "source": [
    "for i, j in enumerate(np.random.randint(0,784,5)):\n",
    "    x = np.array(df7.iloc[j,:784])\n",
    "    y = np.reshape(x,(28,28))\n",
    "    plt.subplot(1,5,i+1)\n",
    "    #print(i)\n",
    "    plt.imshow(y)"
   ]
  },
  {
   "cell_type": "code",
   "execution_count": 194,
   "id": "9b3f2882",
   "metadata": {},
   "outputs": [
    {
     "data": {
      "image/png": "[encoded data removed]",
      "text/plain": [
       "<Figure size 432x288 with 5 Axes>"
      ]
     },
     "metadata": {
      "needs_background": "light"
     },
     "output_type": "display_data"
    }
   ],
   "source": [
    "for i, j in enumerate(np.random.randint(0,784,5)):\n",
    "    x = np.array(df8.iloc[j,:784])\n",
    "    y = np.reshape(x,(28,28))\n",
    "    plt.subplot(1,5,i+1)\n",
    "    #print(i)\n",
    "    plt.imshow(y)"
   ]
  },
  {
   "cell_type": "code",
   "execution_count": 195,
   "id": "03f84918",
   "metadata": {},
   "outputs": [
    {
     "data": {
      "image/png": "[encoded data removed]",
      "text/plain": [
       "<Figure size 432x288 with 5 Axes>"
      ]
     },
     "metadata": {
      "needs_background": "light"
     },
     "output_type": "display_data"
    }
   ],
   "source": [
    "for i, j in enumerate(np.random.randint(0,784,5)):\n",
    "    x = np.array(df9.iloc[j,:784])\n",
    "    y = np.reshape(x,(28,28))\n",
    "    plt.subplot(1,5,i+1)\n",
    "    #print(i)\n",
    "    plt.imshow(y)"
   ]
  },
  {
   "cell_type": "code",
   "execution_count": null,
   "id": "ebe964b9",
   "metadata": {},
   "outputs": [],
   "source": []
  },
  {
   "cell_type": "code",
   "execution_count": null,
   "id": "3a32ea67",
   "metadata": {},
   "outputs": [],
   "source": []
  },
  {
   "cell_type": "markdown",
   "id": "5255f5f6",
   "metadata": {},
   "source": [
    "### Concatinating All DataFrames"
   ]
  },
  {
   "cell_type": "code",
   "execution_count": 196,
   "id": "7a410ca4",
   "metadata": {},
   "outputs": [],
   "source": [
    "data = pd.concat([df,df1,df2,df3,df4,df5,df6,df7,df8,df9])"
   ]
  },
  {
   "cell_type": "code",
   "execution_count": 198,
   "id": "c62ee4a9",
   "metadata": {},
   "outputs": [
    {
     "data": {
      "text/html": [
       "<div>\n",
       "<style scoped>\n",
       "    .dataframe tbody tr th:only-of-type {\n",
       "        vertical-align: middle;\n",
       "    }\n",
       "\n",
       "    .dataframe tbody tr th {\n",
       "        vertical-align: top;\n",
       "    }\n",
       "\n",
       "    .dataframe thead th {\n",
       "        text-align: right;\n",
       "    }\n",
       "</style>\n",
       "<table border=\"1\" class=\"dataframe\">\n",
       "  <thead>\n",
       "    <tr style=\"text-align: right;\">\n",
       "      <th></th>\n",
       "      <th>index</th>\n",
       "      <th>0</th>\n",
       "      <th>1</th>\n",
       "      <th>2</th>\n",
       "      <th>3</th>\n",
       "      <th>4</th>\n",
       "      <th>5</th>\n",
       "      <th>6</th>\n",
       "      <th>7</th>\n",
       "      <th>8</th>\n",
       "      <th>...</th>\n",
       "      <th>775</th>\n",
       "      <th>776</th>\n",
       "      <th>777</th>\n",
       "      <th>778</th>\n",
       "      <th>779</th>\n",
       "      <th>780</th>\n",
       "      <th>781</th>\n",
       "      <th>782</th>\n",
       "      <th>783</th>\n",
       "      <th>784</th>\n",
       "    </tr>\n",
       "  </thead>\n",
       "  <tbody>\n",
       "    <tr>\n",
       "      <th>0</th>\n",
       "      <td>0</td>\n",
       "      <td>0.329412</td>\n",
       "      <td>0.329412</td>\n",
       "      <td>0.329412</td>\n",
       "      <td>0.329412</td>\n",
       "      <td>0.329412</td>\n",
       "      <td>0.329412</td>\n",
       "      <td>0.329412</td>\n",
       "      <td>0.329412</td>\n",
       "      <td>0.329412</td>\n",
       "      <td>...</td>\n",
       "      <td>0.329412</td>\n",
       "      <td>0.329412</td>\n",
       "      <td>0.329412</td>\n",
       "      <td>0.329412</td>\n",
       "      <td>0.329412</td>\n",
       "      <td>0.329412</td>\n",
       "      <td>0.329412</td>\n",
       "      <td>0.329412</td>\n",
       "      <td>0.329412</td>\n",
       "      <td>0</td>\n",
       "    </tr>\n",
       "    <tr>\n",
       "      <th>1</th>\n",
       "      <td>1</td>\n",
       "      <td>0.329412</td>\n",
       "      <td>0.329412</td>\n",
       "      <td>0.329412</td>\n",
       "      <td>0.329412</td>\n",
       "      <td>0.329412</td>\n",
       "      <td>0.329412</td>\n",
       "      <td>0.329412</td>\n",
       "      <td>0.329412</td>\n",
       "      <td>0.329412</td>\n",
       "      <td>...</td>\n",
       "      <td>0.329412</td>\n",
       "      <td>0.329412</td>\n",
       "      <td>0.329412</td>\n",
       "      <td>0.329412</td>\n",
       "      <td>0.329412</td>\n",
       "      <td>0.329412</td>\n",
       "      <td>0.329412</td>\n",
       "      <td>0.329412</td>\n",
       "      <td>0.329412</td>\n",
       "      <td>0</td>\n",
       "    </tr>\n",
       "    <tr>\n",
       "      <th>2</th>\n",
       "      <td>2</td>\n",
       "      <td>0.329412</td>\n",
       "      <td>0.329412</td>\n",
       "      <td>0.329412</td>\n",
       "      <td>0.329412</td>\n",
       "      <td>0.329412</td>\n",
       "      <td>0.329412</td>\n",
       "      <td>0.329412</td>\n",
       "      <td>0.329412</td>\n",
       "      <td>0.329412</td>\n",
       "      <td>...</td>\n",
       "      <td>0.329412</td>\n",
       "      <td>0.329412</td>\n",
       "      <td>0.329412</td>\n",
       "      <td>0.329412</td>\n",
       "      <td>0.329412</td>\n",
       "      <td>0.329412</td>\n",
       "      <td>0.329412</td>\n",
       "      <td>0.329412</td>\n",
       "      <td>0.329412</td>\n",
       "      <td>0</td>\n",
       "    </tr>\n",
       "    <tr>\n",
       "      <th>3</th>\n",
       "      <td>3</td>\n",
       "      <td>0.329412</td>\n",
       "      <td>0.329412</td>\n",
       "      <td>0.329412</td>\n",
       "      <td>0.329412</td>\n",
       "      <td>0.329412</td>\n",
       "      <td>0.329412</td>\n",
       "      <td>0.329412</td>\n",
       "      <td>0.329412</td>\n",
       "      <td>0.329412</td>\n",
       "      <td>...</td>\n",
       "      <td>0.329412</td>\n",
       "      <td>0.329412</td>\n",
       "      <td>0.329412</td>\n",
       "      <td>0.329412</td>\n",
       "      <td>0.329412</td>\n",
       "      <td>0.329412</td>\n",
       "      <td>0.329412</td>\n",
       "      <td>0.329412</td>\n",
       "      <td>0.329412</td>\n",
       "      <td>0</td>\n",
       "    </tr>\n",
       "    <tr>\n",
       "      <th>4</th>\n",
       "      <td>4</td>\n",
       "      <td>0.329412</td>\n",
       "      <td>0.329412</td>\n",
       "      <td>0.329412</td>\n",
       "      <td>0.329412</td>\n",
       "      <td>0.329412</td>\n",
       "      <td>0.329412</td>\n",
       "      <td>0.329412</td>\n",
       "      <td>0.329412</td>\n",
       "      <td>0.329412</td>\n",
       "      <td>...</td>\n",
       "      <td>0.329412</td>\n",
       "      <td>0.329412</td>\n",
       "      <td>0.329412</td>\n",
       "      <td>0.329412</td>\n",
       "      <td>0.329412</td>\n",
       "      <td>0.329412</td>\n",
       "      <td>0.329412</td>\n",
       "      <td>0.329412</td>\n",
       "      <td>0.329412</td>\n",
       "      <td>0</td>\n",
       "    </tr>\n",
       "    <tr>\n",
       "      <th>...</th>\n",
       "      <td>...</td>\n",
       "      <td>...</td>\n",
       "      <td>...</td>\n",
       "      <td>...</td>\n",
       "      <td>...</td>\n",
       "      <td>...</td>\n",
       "      <td>...</td>\n",
       "      <td>...</td>\n",
       "      <td>...</td>\n",
       "      <td>...</td>\n",
       "      <td>...</td>\n",
       "      <td>...</td>\n",
       "      <td>...</td>\n",
       "      <td>...</td>\n",
       "      <td>...</td>\n",
       "      <td>...</td>\n",
       "      <td>...</td>\n",
       "      <td>...</td>\n",
       "      <td>...</td>\n",
       "      <td>...</td>\n",
       "      <td>...</td>\n",
       "    </tr>\n",
       "    <tr>\n",
       "      <th>41995</th>\n",
       "      <td>4183</td>\n",
       "      <td>0.329412</td>\n",
       "      <td>0.329412</td>\n",
       "      <td>0.329412</td>\n",
       "      <td>0.329412</td>\n",
       "      <td>0.329412</td>\n",
       "      <td>0.329412</td>\n",
       "      <td>0.329412</td>\n",
       "      <td>0.329412</td>\n",
       "      <td>0.329412</td>\n",
       "      <td>...</td>\n",
       "      <td>0.329412</td>\n",
       "      <td>0.329412</td>\n",
       "      <td>0.329412</td>\n",
       "      <td>0.329412</td>\n",
       "      <td>0.329412</td>\n",
       "      <td>0.329412</td>\n",
       "      <td>0.329412</td>\n",
       "      <td>0.329412</td>\n",
       "      <td>0.329412</td>\n",
       "      <td>9</td>\n",
       "    </tr>\n",
       "    <tr>\n",
       "      <th>41996</th>\n",
       "      <td>4184</td>\n",
       "      <td>0.329412</td>\n",
       "      <td>0.329412</td>\n",
       "      <td>0.329412</td>\n",
       "      <td>0.329412</td>\n",
       "      <td>0.329412</td>\n",
       "      <td>0.329412</td>\n",
       "      <td>0.329412</td>\n",
       "      <td>0.329412</td>\n",
       "      <td>0.329412</td>\n",
       "      <td>...</td>\n",
       "      <td>0.329412</td>\n",
       "      <td>0.329412</td>\n",
       "      <td>0.329412</td>\n",
       "      <td>0.329412</td>\n",
       "      <td>0.329412</td>\n",
       "      <td>0.329412</td>\n",
       "      <td>0.329412</td>\n",
       "      <td>0.329412</td>\n",
       "      <td>0.329412</td>\n",
       "      <td>9</td>\n",
       "    </tr>\n",
       "    <tr>\n",
       "      <th>41997</th>\n",
       "      <td>4185</td>\n",
       "      <td>0.329412</td>\n",
       "      <td>0.329412</td>\n",
       "      <td>0.329412</td>\n",
       "      <td>0.329412</td>\n",
       "      <td>0.329412</td>\n",
       "      <td>0.329412</td>\n",
       "      <td>0.329412</td>\n",
       "      <td>0.329412</td>\n",
       "      <td>0.329412</td>\n",
       "      <td>...</td>\n",
       "      <td>0.329412</td>\n",
       "      <td>0.329412</td>\n",
       "      <td>0.329412</td>\n",
       "      <td>0.329412</td>\n",
       "      <td>0.329412</td>\n",
       "      <td>0.329412</td>\n",
       "      <td>0.329412</td>\n",
       "      <td>0.329412</td>\n",
       "      <td>0.329412</td>\n",
       "      <td>9</td>\n",
       "    </tr>\n",
       "    <tr>\n",
       "      <th>41998</th>\n",
       "      <td>4186</td>\n",
       "      <td>0.329412</td>\n",
       "      <td>0.329412</td>\n",
       "      <td>0.329412</td>\n",
       "      <td>0.329412</td>\n",
       "      <td>0.329412</td>\n",
       "      <td>0.329412</td>\n",
       "      <td>0.329412</td>\n",
       "      <td>0.329412</td>\n",
       "      <td>0.329412</td>\n",
       "      <td>...</td>\n",
       "      <td>0.329412</td>\n",
       "      <td>0.329412</td>\n",
       "      <td>0.329412</td>\n",
       "      <td>0.329412</td>\n",
       "      <td>0.329412</td>\n",
       "      <td>0.329412</td>\n",
       "      <td>0.329412</td>\n",
       "      <td>0.329412</td>\n",
       "      <td>0.329412</td>\n",
       "      <td>9</td>\n",
       "    </tr>\n",
       "    <tr>\n",
       "      <th>41999</th>\n",
       "      <td>4187</td>\n",
       "      <td>0.329412</td>\n",
       "      <td>0.329412</td>\n",
       "      <td>0.329412</td>\n",
       "      <td>0.329412</td>\n",
       "      <td>0.329412</td>\n",
       "      <td>0.329412</td>\n",
       "      <td>0.329412</td>\n",
       "      <td>0.329412</td>\n",
       "      <td>0.329412</td>\n",
       "      <td>...</td>\n",
       "      <td>0.329412</td>\n",
       "      <td>0.329412</td>\n",
       "      <td>0.329412</td>\n",
       "      <td>0.329412</td>\n",
       "      <td>0.329412</td>\n",
       "      <td>0.329412</td>\n",
       "      <td>0.329412</td>\n",
       "      <td>0.329412</td>\n",
       "      <td>0.329412</td>\n",
       "      <td>9</td>\n",
       "    </tr>\n",
       "  </tbody>\n",
       "</table>\n",
       "<p>42000 rows × 786 columns</p>\n",
       "</div>"
      ],
      "text/plain": [
       "       index         0         1         2         3         4         5  \\\n",
       "0          0  0.329412  0.329412  0.329412  0.329412  0.329412  0.329412   \n",
       "1          1  0.329412  0.329412  0.329412  0.329412  0.329412  0.329412   \n",
       "2          2  0.329412  0.329412  0.329412  0.329412  0.329412  0.329412   \n",
       "3          3  0.329412  0.329412  0.329412  0.329412  0.329412  0.329412   \n",
       "4          4  0.329412  0.329412  0.329412  0.329412  0.329412  0.329412   \n",
       "...      ...       ...       ...       ...       ...       ...       ...   \n",
       "41995   4183  0.329412  0.329412  0.329412  0.329412  0.329412  0.329412   \n",
       "41996   4184  0.329412  0.329412  0.329412  0.329412  0.329412  0.329412   \n",
       "41997   4185  0.329412  0.329412  0.329412  0.329412  0.329412  0.329412   \n",
       "41998   4186  0.329412  0.329412  0.329412  0.329412  0.329412  0.329412   \n",
       "41999   4187  0.329412  0.329412  0.329412  0.329412  0.329412  0.329412   \n",
       "\n",
       "              6         7         8  ...       775       776       777  \\\n",
       "0      0.329412  0.329412  0.329412  ...  0.329412  0.329412  0.329412   \n",
       "1      0.329412  0.329412  0.329412  ...  0.329412  0.329412  0.329412   \n",
       "2      0.329412  0.329412  0.329412  ...  0.329412  0.329412  0.329412   \n",
       "3      0.329412  0.329412  0.329412  ...  0.329412  0.329412  0.329412   \n",
       "4      0.329412  0.329412  0.329412  ...  0.329412  0.329412  0.329412   \n",
       "...         ...       ...       ...  ...       ...       ...       ...   \n",
       "41995  0.329412  0.329412  0.329412  ...  0.329412  0.329412  0.329412   \n",
       "41996  0.329412  0.329412  0.329412  ...  0.329412  0.329412  0.329412   \n",
       "41997  0.329412  0.329412  0.329412  ...  0.329412  0.329412  0.329412   \n",
       "41998  0.329412  0.329412  0.329412  ...  0.329412  0.329412  0.329412   \n",
       "41999  0.329412  0.329412  0.329412  ...  0.329412  0.329412  0.329412   \n",
       "\n",
       "            778       779       780       781       782       783  784  \n",
       "0      0.329412  0.329412  0.329412  0.329412  0.329412  0.329412    0  \n",
       "1      0.329412  0.329412  0.329412  0.329412  0.329412  0.329412    0  \n",
       "2      0.329412  0.329412  0.329412  0.329412  0.329412  0.329412    0  \n",
       "3      0.329412  0.329412  0.329412  0.329412  0.329412  0.329412    0  \n",
       "4      0.329412  0.329412  0.329412  0.329412  0.329412  0.329412    0  \n",
       "...         ...       ...       ...       ...       ...       ...  ...  \n",
       "41995  0.329412  0.329412  0.329412  0.329412  0.329412  0.329412    9  \n",
       "41996  0.329412  0.329412  0.329412  0.329412  0.329412  0.329412    9  \n",
       "41997  0.329412  0.329412  0.329412  0.329412  0.329412  0.329412    9  \n",
       "41998  0.329412  0.329412  0.329412  0.329412  0.329412  0.329412    9  \n",
       "41999  0.329412  0.329412  0.329412  0.329412  0.329412  0.329412    9  \n",
       "\n",
       "[42000 rows x 786 columns]"
      ]
     },
     "execution_count": 198,
     "metadata": {},
     "output_type": "execute_result"
    }
   ],
   "source": [
    "data.reset_index()"
   ]
  },
  {
   "cell_type": "code",
   "execution_count": 199,
   "id": "ae061fa1",
   "metadata": {},
   "outputs": [],
   "source": [
    "#data.to_csv(\"MNIST.csv\")"
   ]
  },
  {
   "cell_type": "markdown",
   "id": "9e83d03d",
   "metadata": {},
   "source": [
    "### Will Continue this  Project in 2.0"
   ]
  },
  {
   "cell_type": "code",
   "execution_count": null,
   "id": "0b1baf4d",
   "metadata": {},
   "outputs": [],
   "source": []
  },
  {
   "cell_type": "markdown",
   "id": "ff025c26",
   "metadata": {},
   "source": [
    "#### All the image files are used to create this  DataFrame is More size so i uploaded all in Zip file  of below link"
   ]
  },
  {
   "cell_type": "markdown",
   "id": "b811f78d",
   "metadata": {},
   "source": [
    "https://drive.google.com/file/d/1eRZ2dbTnC354IyFK4tj5_6y5MNNUX1Hp/view?usp=sharing"
   ]
  },
  {
   "cell_type": "code",
   "execution_count": null,
   "id": "a2fab985",
   "metadata": {},
   "outputs": [],
   "source": []
  }
 ],
 "metadata": {
  "kernelspec": {
   "display_name": "Python 3 (ipykernel)",
   "language": "python",
   "name": "python3"
  },
  "language_info": {
   "codemirror_mode": {
    "name": "ipython",
    "version": 3
   },
   "file_extension": ".py",
   "mimetype": "text/x-python",
   "name": "python",
   "nbconvert_exporter": "python",
   "pygments_lexer": "ipython3",
   "version": "3.9.7"
  }
 },
 "nbformat": 4,
 "nbformat_minor": 5
}
