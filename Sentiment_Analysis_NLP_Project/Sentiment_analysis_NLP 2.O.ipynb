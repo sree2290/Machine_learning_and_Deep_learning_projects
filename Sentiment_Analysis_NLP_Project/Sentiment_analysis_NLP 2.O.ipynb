{
 "cells": [
  {
   "cell_type": "markdown",
   "id": "6f651c40",
   "metadata": {},
   "source": [
    "###  Text Data "
   ]
  },
  {
   "cell_type": "markdown",
   "id": "15580a05",
   "metadata": {},
   "source": [
    "### Importing Necessary Libraries"
   ]
  },
  {
   "cell_type": "code",
   "execution_count": 1,
   "id": "3d016c6b",
   "metadata": {},
   "outputs": [],
   "source": [
    "import pandas as pd\n",
    "import numpy as np\n",
    "import seaborn as sns\n",
    "import warnings\n",
    "import matplotlib.pyplot as plt\n",
    "warnings.filterwarnings(\"ignore\")"
   ]
  },
  {
   "cell_type": "markdown",
   "id": "cec82811",
   "metadata": {},
   "source": [
    "### Importing required libraries for NLP"
   ]
  },
  {
   "cell_type": "code",
   "execution_count": 2,
   "id": "04a4376e",
   "metadata": {},
   "outputs": [],
   "source": [
    "import re\n",
    "import nltk\n",
    "from nltk.tokenize import word_tokenize\n",
    "from nltk.corpus import stopwords\n",
    "\n",
    "from nltk.stem import WordNetLemmatizer"
   ]
  },
  {
   "cell_type": "code",
   "execution_count": 3,
   "id": "4703ce54",
   "metadata": {},
   "outputs": [
    {
     "data": {
      "text/html": [
       "<div>\n",
       "<style scoped>\n",
       "    .dataframe tbody tr th:only-of-type {\n",
       "        vertical-align: middle;\n",
       "    }\n",
       "\n",
       "    .dataframe tbody tr th {\n",
       "        vertical-align: top;\n",
       "    }\n",
       "\n",
       "    .dataframe thead th {\n",
       "        text-align: right;\n",
       "    }\n",
       "</style>\n",
       "<table border=\"1\" class=\"dataframe\">\n",
       "  <thead>\n",
       "    <tr style=\"text-align: right;\">\n",
       "      <th></th>\n",
       "      <th>Help_num</th>\n",
       "      <th>Help_dem</th>\n",
       "      <th>Score</th>\n",
       "      <th>Text</th>\n",
       "    </tr>\n",
       "  </thead>\n",
       "  <tbody>\n",
       "    <tr>\n",
       "      <th>0</th>\n",
       "      <td>1</td>\n",
       "      <td>1</td>\n",
       "      <td>5</td>\n",
       "      <td>I have bought several of the Vitality canned ...</td>\n",
       "    </tr>\n",
       "    <tr>\n",
       "      <th>1</th>\n",
       "      <td>0</td>\n",
       "      <td>0</td>\n",
       "      <td>1</td>\n",
       "      <td>Product arrived labeled as Jumbo Salted Peanu...</td>\n",
       "    </tr>\n",
       "    <tr>\n",
       "      <th>2</th>\n",
       "      <td>1</td>\n",
       "      <td>1</td>\n",
       "      <td>4</td>\n",
       "      <td>This is a confection that has been around a f...</td>\n",
       "    </tr>\n",
       "    <tr>\n",
       "      <th>3</th>\n",
       "      <td>3</td>\n",
       "      <td>3</td>\n",
       "      <td>2</td>\n",
       "      <td>If you are looking for the secret ingredient ...</td>\n",
       "    </tr>\n",
       "    <tr>\n",
       "      <th>4</th>\n",
       "      <td>0</td>\n",
       "      <td>0</td>\n",
       "      <td>5</td>\n",
       "      <td>Great taffy at a great price.  There was a wi...</td>\n",
       "    </tr>\n",
       "  </tbody>\n",
       "</table>\n",
       "</div>"
      ],
      "text/plain": [
       "   Help_num  Help_dem  Score  \\\n",
       "0         1         1      5   \n",
       "1         0         0      1   \n",
       "2         1         1      4   \n",
       "3         3         3      2   \n",
       "4         0         0      5   \n",
       "\n",
       "                                                Text  \n",
       "0   I have bought several of the Vitality canned ...  \n",
       "1   Product arrived labeled as Jumbo Salted Peanu...  \n",
       "2   This is a confection that has been around a f...  \n",
       "3   If you are looking for the secret ingredient ...  \n",
       "4   Great taffy at a great price.  There was a wi...  "
      ]
     },
     "execution_count": 3,
     "metadata": {},
     "output_type": "execute_result"
    }
   ],
   "source": [
    "data = pd.read_csv(\"NLP.csv\")\n",
    "data.head()"
   ]
  },
  {
   "cell_type": "code",
   "execution_count": 4,
   "id": "92cc6bc8",
   "metadata": {},
   "outputs": [
    {
     "data": {
      "text/plain": [
       "(276836, 4)"
      ]
     },
     "execution_count": 4,
     "metadata": {},
     "output_type": "execute_result"
    }
   ],
   "source": [
    "data.shape"
   ]
  },
  {
   "cell_type": "code",
   "execution_count": 5,
   "id": "c91e1db1",
   "metadata": {},
   "outputs": [
    {
     "name": "stdout",
     "output_type": "stream",
     "text": [
      "<class 'pandas.core.frame.DataFrame'>\n",
      "RangeIndex: 276836 entries, 0 to 276835\n",
      "Data columns (total 4 columns):\n",
      " #   Column    Non-Null Count   Dtype \n",
      "---  ------    --------------   ----- \n",
      " 0   Help_num  276836 non-null  int64 \n",
      " 1   Help_dem  276836 non-null  int64 \n",
      " 2   Score     276836 non-null  int64 \n",
      " 3   Text      276836 non-null  object\n",
      "dtypes: int64(3), object(1)\n",
      "memory usage: 8.4+ MB\n"
     ]
    }
   ],
   "source": [
    "data.info()"
   ]
  },
  {
   "cell_type": "code",
   "execution_count": 6,
   "id": "f50e7ba7",
   "metadata": {},
   "outputs": [
    {
     "data": {
      "text/plain": [
       "5    189746\n",
       "4     43257\n",
       "1     27785\n",
       "2     16048\n",
       "Name: Score, dtype: int64"
      ]
     },
     "execution_count": 6,
     "metadata": {},
     "output_type": "execute_result"
    }
   ],
   "source": [
    "data.Score.value_counts()"
   ]
  },
  {
   "cell_type": "markdown",
   "id": "26543392",
   "metadata": {},
   "source": [
    "###  Exploratory Data Analysis"
   ]
  },
  {
   "cell_type": "code",
   "execution_count": 7,
   "id": "19b82b19",
   "metadata": {},
   "outputs": [
    {
     "data": {
      "image/png": "[encoded data removed]",
      "text/plain": [
       "<Figure size 432x288 with 1 Axes>"
      ]
     },
     "metadata": {
      "needs_background": "light"
     },
     "output_type": "display_data"
    }
   ],
   "source": [
    "sns.distplot(data.Score);"
   ]
  },
  {
   "cell_type": "code",
   "execution_count": null,
   "id": "53658e83",
   "metadata": {},
   "outputs": [],
   "source": []
  },
  {
   "cell_type": "code",
   "execution_count": 8,
   "id": "1e8e565a",
   "metadata": {},
   "outputs": [
    {
     "data": {
      "image/png": "[encoded data removed]",
      "text/plain": [
       "<Figure size 432x288 with 1 Axes>"
      ]
     },
     "metadata": {
      "needs_background": "light"
     },
     "output_type": "display_data"
    }
   ],
   "source": [
    "sns.countplot(data.Score);"
   ]
  },
  {
   "cell_type": "markdown",
   "id": "af52afbe",
   "metadata": {},
   "source": [
    "### Changing Taraget varible to Positive or Negetive"
   ]
  },
  {
   "cell_type": "code",
   "execution_count": 9,
   "id": "75dedf3d",
   "metadata": {},
   "outputs": [],
   "source": [
    "my_dict = {5:\"Positive\",4:\"Positive\",2:\"Negitive\",1:\"Negitive\"}"
   ]
  },
  {
   "cell_type": "code",
   "execution_count": 10,
   "id": "a8c7cc23",
   "metadata": {},
   "outputs": [
    {
     "data": {
      "text/html": [
       "<div>\n",
       "<style scoped>\n",
       "    .dataframe tbody tr th:only-of-type {\n",
       "        vertical-align: middle;\n",
       "    }\n",
       "\n",
       "    .dataframe tbody tr th {\n",
       "        vertical-align: top;\n",
       "    }\n",
       "\n",
       "    .dataframe thead th {\n",
       "        text-align: right;\n",
       "    }\n",
       "</style>\n",
       "<table border=\"1\" class=\"dataframe\">\n",
       "  <thead>\n",
       "    <tr style=\"text-align: right;\">\n",
       "      <th></th>\n",
       "      <th>Help_num</th>\n",
       "      <th>Help_dem</th>\n",
       "      <th>Score</th>\n",
       "      <th>Text</th>\n",
       "    </tr>\n",
       "  </thead>\n",
       "  <tbody>\n",
       "    <tr>\n",
       "      <th>0</th>\n",
       "      <td>1</td>\n",
       "      <td>1</td>\n",
       "      <td>5</td>\n",
       "      <td>I have bought several of the Vitality canned ...</td>\n",
       "    </tr>\n",
       "    <tr>\n",
       "      <th>1</th>\n",
       "      <td>0</td>\n",
       "      <td>0</td>\n",
       "      <td>1</td>\n",
       "      <td>Product arrived labeled as Jumbo Salted Peanu...</td>\n",
       "    </tr>\n",
       "    <tr>\n",
       "      <th>2</th>\n",
       "      <td>1</td>\n",
       "      <td>1</td>\n",
       "      <td>4</td>\n",
       "      <td>This is a confection that has been around a f...</td>\n",
       "    </tr>\n",
       "    <tr>\n",
       "      <th>3</th>\n",
       "      <td>3</td>\n",
       "      <td>3</td>\n",
       "      <td>2</td>\n",
       "      <td>If you are looking for the secret ingredient ...</td>\n",
       "    </tr>\n",
       "    <tr>\n",
       "      <th>4</th>\n",
       "      <td>0</td>\n",
       "      <td>0</td>\n",
       "      <td>5</td>\n",
       "      <td>Great taffy at a great price.  There was a wi...</td>\n",
       "    </tr>\n",
       "  </tbody>\n",
       "</table>\n",
       "</div>"
      ],
      "text/plain": [
       "   Help_num  Help_dem  Score  \\\n",
       "0         1         1      5   \n",
       "1         0         0      1   \n",
       "2         1         1      4   \n",
       "3         3         3      2   \n",
       "4         0         0      5   \n",
       "\n",
       "                                                Text  \n",
       "0   I have bought several of the Vitality canned ...  \n",
       "1   Product arrived labeled as Jumbo Salted Peanu...  \n",
       "2   This is a confection that has been around a f...  \n",
       "3   If you are looking for the secret ingredient ...  \n",
       "4   Great taffy at a great price.  There was a wi...  "
      ]
     },
     "execution_count": 10,
     "metadata": {},
     "output_type": "execute_result"
    }
   ],
   "source": [
    "data.head()"
   ]
  },
  {
   "cell_type": "code",
   "execution_count": 11,
   "id": "20c22be4",
   "metadata": {
    "scrolled": true
   },
   "outputs": [],
   "source": [
    "data[\"Score\"] = data[\"Score\"].apply(lambda x: my_dict[x])"
   ]
  },
  {
   "cell_type": "code",
   "execution_count": 12,
   "id": "9adb7239",
   "metadata": {},
   "outputs": [
    {
     "data": {
      "text/html": [
       "<div>\n",
       "<style scoped>\n",
       "    .dataframe tbody tr th:only-of-type {\n",
       "        vertical-align: middle;\n",
       "    }\n",
       "\n",
       "    .dataframe tbody tr th {\n",
       "        vertical-align: top;\n",
       "    }\n",
       "\n",
       "    .dataframe thead th {\n",
       "        text-align: right;\n",
       "    }\n",
       "</style>\n",
       "<table border=\"1\" class=\"dataframe\">\n",
       "  <thead>\n",
       "    <tr style=\"text-align: right;\">\n",
       "      <th></th>\n",
       "      <th>Help_num</th>\n",
       "      <th>Help_dem</th>\n",
       "      <th>Score</th>\n",
       "      <th>Text</th>\n",
       "    </tr>\n",
       "  </thead>\n",
       "  <tbody>\n",
       "    <tr>\n",
       "      <th>0</th>\n",
       "      <td>1</td>\n",
       "      <td>1</td>\n",
       "      <td>Positive</td>\n",
       "      <td>I have bought several of the Vitality canned ...</td>\n",
       "    </tr>\n",
       "    <tr>\n",
       "      <th>1</th>\n",
       "      <td>0</td>\n",
       "      <td>0</td>\n",
       "      <td>Negitive</td>\n",
       "      <td>Product arrived labeled as Jumbo Salted Peanu...</td>\n",
       "    </tr>\n",
       "    <tr>\n",
       "      <th>2</th>\n",
       "      <td>1</td>\n",
       "      <td>1</td>\n",
       "      <td>Positive</td>\n",
       "      <td>This is a confection that has been around a f...</td>\n",
       "    </tr>\n",
       "    <tr>\n",
       "      <th>3</th>\n",
       "      <td>3</td>\n",
       "      <td>3</td>\n",
       "      <td>Negitive</td>\n",
       "      <td>If you are looking for the secret ingredient ...</td>\n",
       "    </tr>\n",
       "    <tr>\n",
       "      <th>4</th>\n",
       "      <td>0</td>\n",
       "      <td>0</td>\n",
       "      <td>Positive</td>\n",
       "      <td>Great taffy at a great price.  There was a wi...</td>\n",
       "    </tr>\n",
       "  </tbody>\n",
       "</table>\n",
       "</div>"
      ],
      "text/plain": [
       "   Help_num  Help_dem     Score  \\\n",
       "0         1         1  Positive   \n",
       "1         0         0  Negitive   \n",
       "2         1         1  Positive   \n",
       "3         3         3  Negitive   \n",
       "4         0         0  Positive   \n",
       "\n",
       "                                                Text  \n",
       "0   I have bought several of the Vitality canned ...  \n",
       "1   Product arrived labeled as Jumbo Salted Peanu...  \n",
       "2   This is a confection that has been around a f...  \n",
       "3   If you are looking for the secret ingredient ...  \n",
       "4   Great taffy at a great price.  There was a wi...  "
      ]
     },
     "execution_count": 12,
     "metadata": {},
     "output_type": "execute_result"
    }
   ],
   "source": [
    "data.head()"
   ]
  },
  {
   "cell_type": "code",
   "execution_count": 14,
   "id": "ce4b92e6",
   "metadata": {
    "scrolled": true
   },
   "outputs": [
    {
     "data": {
      "image/png": "[encoded data removed]",
      "text/plain": [
       "<Figure size 432x288 with 1 Axes>"
      ]
     },
     "metadata": {
      "needs_background": "light"
     },
     "output_type": "display_data"
    }
   ],
   "source": [
    "sns.countplot(data.Score);"
   ]
  },
  {
   "cell_type": "markdown",
   "id": "1a2aa6eb",
   "metadata": {},
   "source": [
    "#####                We have imbalnced Data, so instead of random sampling we use startified sampling"
   ]
  },
  {
   "cell_type": "code",
   "execution_count": 15,
   "id": "a9fe2aaa",
   "metadata": {
    "scrolled": true
   },
   "outputs": [
    {
     "data": {
      "text/plain": [
       "Positive    233003\n",
       "Negitive     43833\n",
       "Name: Score, dtype: int64"
      ]
     },
     "execution_count": 15,
     "metadata": {},
     "output_type": "execute_result"
    }
   ],
   "source": [
    "data.Score.value_counts()"
   ]
  },
  {
   "cell_type": "markdown",
   "id": "e3f29f41",
   "metadata": {},
   "source": [
    "### Spliting into X and y"
   ]
  },
  {
   "cell_type": "code",
   "execution_count": 16,
   "id": "23530fd2",
   "metadata": {},
   "outputs": [],
   "source": [
    "X= data[[\"Text\"]]\n",
    "y = data[\"Score\"]"
   ]
  },
  {
   "cell_type": "markdown",
   "id": "3332410d",
   "metadata": {},
   "source": [
    "### split into train and test"
   ]
  },
  {
   "cell_type": "code",
   "execution_count": 29,
   "id": "580e0b49",
   "metadata": {},
   "outputs": [],
   "source": [
    "from sklearn.model_selection import train_test_split\n",
    "X_train , X_test, y_train, y_test = train_test_split(X,y, train_size=0.7, random_state=143,stratify=y )"
   ]
  },
  {
   "cell_type": "code",
   "execution_count": 30,
   "id": "f536891e",
   "metadata": {},
   "outputs": [
    {
     "name": "stdout",
     "output_type": "stream",
     "text": [
      "(193785, 1) (193785,)\n",
      "(83051, 1) (83051,)\n"
     ]
    }
   ],
   "source": [
    "print(X_train.shape,y_train.shape)\n",
    "print( X_test.shape, y_test.shape)\n"
   ]
  },
  {
   "cell_type": "markdown",
   "id": "5aaf1ff3",
   "metadata": {},
   "source": [
    "###  Text Preprocessing"
   ]
  },
  {
   "cell_type": "code",
   "execution_count": 33,
   "id": "7be8dd9b",
   "metadata": {},
   "outputs": [],
   "source": [
    "from tqdm import tqdm\n",
    "tqdm.pandas()"
   ]
  },
  {
   "cell_type": "code",
   "execution_count": 34,
   "id": "e83f3cd8",
   "metadata": {},
   "outputs": [],
   "source": [
    "stopword = stopwords.words(\"english\")"
   ]
  },
  {
   "cell_type": "code",
   "execution_count": 35,
   "id": "f85ac2fc",
   "metadata": {},
   "outputs": [],
   "source": [
    "stopword.remove(\"not\")"
   ]
  },
  {
   "cell_type": "code",
   "execution_count": 36,
   "id": "b1f5f8b6",
   "metadata": {},
   "outputs": [],
   "source": []
  },
  {
   "cell_type": "code",
   "execution_count": 37,
   "id": "41bce96b",
   "metadata": {},
   "outputs": [],
   "source": [
    "def preprocess(raw_text):\n",
    "    lemma = WordNetLemmatizer()\n",
    "    sentence = re.sub(\"[^a-zA-Z]\", \" \", raw_text)\n",
    "    sentence = sentence.lower()\n",
    "\n",
    "    tokens = sentence.split()          \n",
    "    clean_tokens = [t for t in tokens if not t in stopwords.words(\"english\")]\n",
    "    clean_tokens = [lemma.lemmatize(word) for word in clean_tokens]\n",
    "    \n",
    "    return pd.Series([\" \".join(clean_tokens)])"
   ]
  },
  {
   "cell_type": "code",
   "execution_count": 38,
   "id": "789337b6",
   "metadata": {},
   "outputs": [
    {
     "name": "stderr",
     "output_type": "stream",
     "text": [
      "100%|████████████████████████████████████████████████████████████████████████| 193785/193785 [1:17:54<00:00, 41.45it/s]\n"
     ]
    }
   ],
   "source": [
    "X_train_transformed = X_train[\"Text\"].progress_apply(lambda x: preprocess(x))"
   ]
  },
  {
   "cell_type": "markdown",
   "id": "8d235367",
   "metadata": {},
   "source": [
    "####  Before preprocessing text"
   ]
  },
  {
   "cell_type": "code",
   "execution_count": 39,
   "id": "51183141",
   "metadata": {
    "scrolled": true
   },
   "outputs": [
    {
     "data": {
      "text/html": [
       "<div>\n",
       "<style scoped>\n",
       "    .dataframe tbody tr th:only-of-type {\n",
       "        vertical-align: middle;\n",
       "    }\n",
       "\n",
       "    .dataframe tbody tr th {\n",
       "        vertical-align: top;\n",
       "    }\n",
       "\n",
       "    .dataframe thead th {\n",
       "        text-align: right;\n",
       "    }\n",
       "</style>\n",
       "<table border=\"1\" class=\"dataframe\">\n",
       "  <thead>\n",
       "    <tr style=\"text-align: right;\">\n",
       "      <th></th>\n",
       "      <th>Text</th>\n",
       "    </tr>\n",
       "  </thead>\n",
       "  <tbody>\n",
       "    <tr>\n",
       "      <th>104314</th>\n",
       "      <td>I'm not thrilled to learn these come from Chi...</td>\n",
       "    </tr>\n",
       "    <tr>\n",
       "      <th>15691</th>\n",
       "      <td>This was my favorite candy as a child; thus, ...</td>\n",
       "    </tr>\n",
       "    <tr>\n",
       "      <th>142501</th>\n",
       "      <td>I have had these Feodora Katzenzungen as a ch...</td>\n",
       "    </tr>\n",
       "    <tr>\n",
       "      <th>227076</th>\n",
       "      <td>I really do like the Classico sauce collectio...</td>\n",
       "    </tr>\n",
       "    <tr>\n",
       "      <th>149508</th>\n",
       "      <td>I had been searching on and off for this prod...</td>\n",
       "    </tr>\n",
       "  </tbody>\n",
       "</table>\n",
       "</div>"
      ],
      "text/plain": [
       "                                                     Text\n",
       "104314   I'm not thrilled to learn these come from Chi...\n",
       "15691    This was my favorite candy as a child; thus, ...\n",
       "142501   I have had these Feodora Katzenzungen as a ch...\n",
       "227076   I really do like the Classico sauce collectio...\n",
       "149508   I had been searching on and off for this prod..."
      ]
     },
     "execution_count": 39,
     "metadata": {},
     "output_type": "execute_result"
    }
   ],
   "source": [
    "X_train.head()"
   ]
  },
  {
   "cell_type": "markdown",
   "id": "d3f24b6c",
   "metadata": {},
   "source": [
    "####  After Preprocessing text"
   ]
  },
  {
   "cell_type": "code",
   "execution_count": 40,
   "id": "0f885985",
   "metadata": {
    "scrolled": true
   },
   "outputs": [
    {
     "data": {
      "text/html": [
       "<div>\n",
       "<style scoped>\n",
       "    .dataframe tbody tr th:only-of-type {\n",
       "        vertical-align: middle;\n",
       "    }\n",
       "\n",
       "    .dataframe tbody tr th {\n",
       "        vertical-align: top;\n",
       "    }\n",
       "\n",
       "    .dataframe thead th {\n",
       "        text-align: right;\n",
       "    }\n",
       "</style>\n",
       "<table border=\"1\" class=\"dataframe\">\n",
       "  <thead>\n",
       "    <tr style=\"text-align: right;\">\n",
       "      <th></th>\n",
       "      <th>0</th>\n",
       "    </tr>\n",
       "  </thead>\n",
       "  <tbody>\n",
       "    <tr>\n",
       "      <th>104314</th>\n",
       "      <td>thrilled learn come china dogswell say check p...</td>\n",
       "    </tr>\n",
       "    <tr>\n",
       "      <th>15691</th>\n",
       "      <td>favorite candy child thus remember well presen...</td>\n",
       "    </tr>\n",
       "    <tr>\n",
       "      <th>142501</th>\n",
       "      <td>feodora katzenzungen child adulthood wonderful...</td>\n",
       "    </tr>\n",
       "    <tr>\n",
       "      <th>227076</th>\n",
       "      <td>really like classico sauce collection however ...</td>\n",
       "    </tr>\n",
       "    <tr>\n",
       "      <th>149508</th>\n",
       "      <td>searching product long time vanished shelf muc...</td>\n",
       "    </tr>\n",
       "  </tbody>\n",
       "</table>\n",
       "</div>"
      ],
      "text/plain": [
       "                                                        0\n",
       "104314  thrilled learn come china dogswell say check p...\n",
       "15691   favorite candy child thus remember well presen...\n",
       "142501  feodora katzenzungen child adulthood wonderful...\n",
       "227076  really like classico sauce collection however ...\n",
       "149508  searching product long time vanished shelf muc..."
      ]
     },
     "execution_count": 40,
     "metadata": {},
     "output_type": "execute_result"
    }
   ],
   "source": [
    "X_train_transformed.head()"
   ]
  },
  {
   "cell_type": "markdown",
   "id": "971202d1",
   "metadata": {},
   "source": [
    "###  conv text to BOW of Train Data"
   ]
  },
  {
   "cell_type": "code",
   "execution_count": 42,
   "id": "cab44dab",
   "metadata": {},
   "outputs": [],
   "source": [
    "from sklearn.feature_extraction.text import CountVectorizer"
   ]
  },
  {
   "cell_type": "code",
   "execution_count": 43,
   "id": "dfbf6592",
   "metadata": {},
   "outputs": [],
   "source": [
    "vec = CountVectorizer()\n",
    "vec.fit(X_train_transformed[0])\n",
    "X_train_bow = vec.transform(X_train_transformed[0])"
   ]
  },
  {
   "cell_type": "code",
   "execution_count": 44,
   "id": "7c74806f",
   "metadata": {},
   "outputs": [
    {
     "data": {
      "text/plain": [
       "<193785x58207 sparse matrix of type '<class 'numpy.int64'>'\n",
       "\twith 5787896 stored elements in Compressed Sparse Row format>"
      ]
     },
     "execution_count": 44,
     "metadata": {},
     "output_type": "execute_result"
    }
   ],
   "source": [
    "X_train_bow"
   ]
  },
  {
   "cell_type": "code",
   "execution_count": 45,
   "id": "cbc2755c",
   "metadata": {},
   "outputs": [
    {
     "name": "stdout",
     "output_type": "stream",
     "text": [
      "Total unique words: 58207\n",
      "Type of train features: <class 'scipy.sparse.csr.csr_matrix'>\n",
      "Shape of input data: (193785, 58207)\n"
     ]
    }
   ],
   "source": [
    "print(\"Total unique words:\", len(vec.vocabulary_))\n",
    "\n",
    "print(\"Type of train features:\", type(X_train_bow))\n",
    "\n",
    "print(\"Shape of input data:\", X_train_bow.shape)"
   ]
  },
  {
   "cell_type": "markdown",
   "id": "839d0a89",
   "metadata": {},
   "source": [
    "### Preparing Test Data"
   ]
  },
  {
   "cell_type": "code",
   "execution_count": 46,
   "id": "b031a2dd",
   "metadata": {},
   "outputs": [
    {
     "data": {
      "text/html": [
       "<div>\n",
       "<style scoped>\n",
       "    .dataframe tbody tr th:only-of-type {\n",
       "        vertical-align: middle;\n",
       "    }\n",
       "\n",
       "    .dataframe tbody tr th {\n",
       "        vertical-align: top;\n",
       "    }\n",
       "\n",
       "    .dataframe thead th {\n",
       "        text-align: right;\n",
       "    }\n",
       "</style>\n",
       "<table border=\"1\" class=\"dataframe\">\n",
       "  <thead>\n",
       "    <tr style=\"text-align: right;\">\n",
       "      <th></th>\n",
       "      <th>Text</th>\n",
       "    </tr>\n",
       "  </thead>\n",
       "  <tbody>\n",
       "    <tr>\n",
       "      <th>189914</th>\n",
       "      <td>I got these to give out in a goodie bag for t...</td>\n",
       "    </tr>\n",
       "    <tr>\n",
       "      <th>168989</th>\n",
       "      <td>My little dog wouldn't even lick it, she isn'...</td>\n",
       "    </tr>\n",
       "    <tr>\n",
       "      <th>21329</th>\n",
       "      <td>My dogs love these. This was a great buy for ...</td>\n",
       "    </tr>\n",
       "    <tr>\n",
       "      <th>215090</th>\n",
       "      <td>Aerated chocolates are quite popular in the r...</td>\n",
       "    </tr>\n",
       "    <tr>\n",
       "      <th>116879</th>\n",
       "      <td>Honestly, I really enjoy this product.  B6 an...</td>\n",
       "    </tr>\n",
       "  </tbody>\n",
       "</table>\n",
       "</div>"
      ],
      "text/plain": [
       "                                                     Text\n",
       "189914   I got these to give out in a goodie bag for t...\n",
       "168989   My little dog wouldn't even lick it, she isn'...\n",
       "21329    My dogs love these. This was a great buy for ...\n",
       "215090   Aerated chocolates are quite popular in the r...\n",
       "116879   Honestly, I really enjoy this product.  B6 an..."
      ]
     },
     "execution_count": 46,
     "metadata": {},
     "output_type": "execute_result"
    }
   ],
   "source": [
    "X_test.head()"
   ]
  },
  {
   "cell_type": "code",
   "execution_count": 48,
   "id": "68f081ae",
   "metadata": {},
   "outputs": [
    {
     "name": "stderr",
     "output_type": "stream",
     "text": [
      "100%|████████████████████████████████████████████████████████████████████████████| 83051/83051 [41:24<00:00, 33.43it/s]\n"
     ]
    },
    {
     "data": {
      "text/html": [
       "<div>\n",
       "<style scoped>\n",
       "    .dataframe tbody tr th:only-of-type {\n",
       "        vertical-align: middle;\n",
       "    }\n",
       "\n",
       "    .dataframe tbody tr th {\n",
       "        vertical-align: top;\n",
       "    }\n",
       "\n",
       "    .dataframe thead th {\n",
       "        text-align: right;\n",
       "    }\n",
       "</style>\n",
       "<table border=\"1\" class=\"dataframe\">\n",
       "  <thead>\n",
       "    <tr style=\"text-align: right;\">\n",
       "      <th></th>\n",
       "      <th>0</th>\n",
       "    </tr>\n",
       "  </thead>\n",
       "  <tbody>\n",
       "    <tr>\n",
       "      <th>189914</th>\n",
       "      <td>got give goodie bag holiday couple extra cours...</td>\n",
       "    </tr>\n",
       "    <tr>\n",
       "      <th>168989</th>\n",
       "      <td>little dog even lick going even get close bewa...</td>\n",
       "    </tr>\n",
       "    <tr>\n",
       "      <th>21329</th>\n",
       "      <td>dog love great buy price quite expensive store...</td>\n",
       "    </tr>\n",
       "    <tr>\n",
       "      <th>215090</th>\n",
       "      <td>aerated chocolate quite popular rest world see...</td>\n",
       "    </tr>\n",
       "    <tr>\n",
       "      <th>116879</th>\n",
       "      <td>honestly really enjoy product b b great boosti...</td>\n",
       "    </tr>\n",
       "  </tbody>\n",
       "</table>\n",
       "</div>"
      ],
      "text/plain": [
       "                                                        0\n",
       "189914  got give goodie bag holiday couple extra cours...\n",
       "168989  little dog even lick going even get close bewa...\n",
       "21329   dog love great buy price quite expensive store...\n",
       "215090  aerated chocolate quite popular rest world see...\n",
       "116879  honestly really enjoy product b b great boosti..."
      ]
     },
     "execution_count": 48,
     "metadata": {},
     "output_type": "execute_result"
    }
   ],
   "source": [
    "X_test_transformed = X_test['Text'].progress_apply(lambda x: preprocess(x))\n",
    "\n",
    "X_test_transformed.head()"
   ]
  },
  {
   "cell_type": "code",
   "execution_count": 49,
   "id": "c7dbbd01",
   "metadata": {},
   "outputs": [],
   "source": [
    "X_test_bow = vec.transform(X_test_transformed[0])"
   ]
  },
  {
   "cell_type": "code",
   "execution_count": 90,
   "id": "4bba5715",
   "metadata": {},
   "outputs": [
    {
     "data": {
      "text/plain": [
       "<83051x58207 sparse matrix of type '<class 'numpy.int64'>'\n",
       "\twith 2472230 stored elements in Compressed Sparse Row format>"
      ]
     },
     "execution_count": 90,
     "metadata": {},
     "output_type": "execute_result"
    }
   ],
   "source": [
    "X_test_bow"
   ]
  },
  {
   "cell_type": "code",
   "execution_count": 51,
   "id": "f1d715dc",
   "metadata": {},
   "outputs": [
    {
     "name": "stdout",
     "output_type": "stream",
     "text": [
      "Total unique words: 58207\n",
      "Type of train features: <class 'scipy.sparse.csr.csr_matrix'>\n",
      "Shape of input data: (83051, 58207)\n"
     ]
    }
   ],
   "source": [
    "print(\"Total unique words:\", len(vec.vocabulary_))\n",
    "\n",
    "print(\"Type of train features:\", type(X_test_bow))\n",
    "\n",
    "print(\"Shape of input data:\", X_test_bow.shape)"
   ]
  },
  {
   "cell_type": "markdown",
   "id": "afb2da18",
   "metadata": {},
   "source": [
    "##  Applying Model"
   ]
  },
  {
   "cell_type": "markdown",
   "id": "735d1243",
   "metadata": {},
   "source": [
    "### Logistic Regression"
   ]
  },
  {
   "cell_type": "code",
   "execution_count": 74,
   "id": "88507b17",
   "metadata": {},
   "outputs": [
    {
     "data": {
      "text/plain": [
       "LogisticRegression()"
      ]
     },
     "execution_count": 74,
     "metadata": {},
     "output_type": "execute_result"
    }
   ],
   "source": [
    "from sklearn.linear_model import LogisticRegression\n",
    "classifier = LogisticRegression()\n",
    "classifier.fit(X_train_bow, y_train)"
   ]
  },
  {
   "cell_type": "code",
   "execution_count": 75,
   "id": "554fe73f",
   "metadata": {},
   "outputs": [
    {
     "data": {
      "text/plain": [
       "0.9479319864798617"
      ]
     },
     "execution_count": 75,
     "metadata": {},
     "output_type": "execute_result"
    }
   ],
   "source": [
    "classifier.score(X_train_bow, y_train)"
   ]
  },
  {
   "cell_type": "code",
   "execution_count": 76,
   "id": "9523d95b",
   "metadata": {},
   "outputs": [],
   "source": [
    "y_train_pred = classifier.predict(X_test_bow)"
   ]
  },
  {
   "cell_type": "code",
   "execution_count": 77,
   "id": "d1809572",
   "metadata": {},
   "outputs": [
    {
     "data": {
      "text/plain": [
       "0.92770707155844"
      ]
     },
     "execution_count": 77,
     "metadata": {},
     "output_type": "execute_result"
    }
   ],
   "source": [
    "accuracy_score(y_test, y_train_pred)"
   ]
  },
  {
   "cell_type": "code",
   "execution_count": 93,
   "id": "165dcd86",
   "metadata": {},
   "outputs": [],
   "source": [
    "temp_df = pd.DataFrame({\"actual\":y_test,\"pred\":y_train_pred})"
   ]
  },
  {
   "cell_type": "code",
   "execution_count": 96,
   "id": "25fe6fdc",
   "metadata": {},
   "outputs": [
    {
     "data": {
      "text/html": [
       "<div>\n",
       "<style scoped>\n",
       "    .dataframe tbody tr th:only-of-type {\n",
       "        vertical-align: middle;\n",
       "    }\n",
       "\n",
       "    .dataframe tbody tr th {\n",
       "        vertical-align: top;\n",
       "    }\n",
       "\n",
       "    .dataframe thead th {\n",
       "        text-align: right;\n",
       "    }\n",
       "</style>\n",
       "<table border=\"1\" class=\"dataframe\">\n",
       "  <thead>\n",
       "    <tr style=\"text-align: right;\">\n",
       "      <th></th>\n",
       "      <th>actual</th>\n",
       "      <th>pred</th>\n",
       "    </tr>\n",
       "  </thead>\n",
       "  <tbody>\n",
       "    <tr>\n",
       "      <th>189914</th>\n",
       "      <td>Positive</td>\n",
       "      <td>Positive</td>\n",
       "    </tr>\n",
       "    <tr>\n",
       "      <th>168989</th>\n",
       "      <td>Negitive</td>\n",
       "      <td>Negitive</td>\n",
       "    </tr>\n",
       "    <tr>\n",
       "      <th>21329</th>\n",
       "      <td>Positive</td>\n",
       "      <td>Positive</td>\n",
       "    </tr>\n",
       "    <tr>\n",
       "      <th>215090</th>\n",
       "      <td>Positive</td>\n",
       "      <td>Positive</td>\n",
       "    </tr>\n",
       "    <tr>\n",
       "      <th>116879</th>\n",
       "      <td>Positive</td>\n",
       "      <td>Positive</td>\n",
       "    </tr>\n",
       "  </tbody>\n",
       "</table>\n",
       "</div>"
      ],
      "text/plain": [
       "          actual      pred\n",
       "189914  Positive  Positive\n",
       "168989  Negitive  Negitive\n",
       "21329   Positive  Positive\n",
       "215090  Positive  Positive\n",
       "116879  Positive  Positive"
      ]
     },
     "execution_count": 96,
     "metadata": {},
     "output_type": "execute_result"
    }
   ],
   "source": [
    "temp_df.head()"
   ]
  },
  {
   "cell_type": "code",
   "execution_count": 79,
   "id": "85ef8635",
   "metadata": {
    "scrolled": true
   },
   "outputs": [
    {
     "name": "stdout",
     "output_type": "stream",
     "text": [
      "              precision    recall  f1-score   support\n",
      "\n",
      "    Negitive       0.82      0.70      0.75     13150\n",
      "    Positive       0.94      0.97      0.96     69901\n",
      "\n",
      "    accuracy                           0.93     83051\n",
      "   macro avg       0.88      0.83      0.86     83051\n",
      "weighted avg       0.92      0.93      0.93     83051\n",
      "\n"
     ]
    }
   ],
   "source": [
    "from sklearn.metrics import accuracy_score, classification_report\n",
    "\n",
    "\n",
    "print(classification_report(y_test, y_test_pred))"
   ]
  },
  {
   "cell_type": "code",
   "execution_count": null,
   "id": "3712ae2b",
   "metadata": {},
   "outputs": [],
   "source": []
  },
  {
   "cell_type": "markdown",
   "id": "66ace23a",
   "metadata": {},
   "source": [
    "###  Naive Bayes"
   ]
  },
  {
   "cell_type": "code",
   "execution_count": 80,
   "id": "4cff3d93",
   "metadata": {},
   "outputs": [
    {
     "data": {
      "text/plain": [
       "MultinomialNB()"
      ]
     },
     "execution_count": 80,
     "metadata": {},
     "output_type": "execute_result"
    }
   ],
   "source": [
    "from sklearn.naive_bayes import MultinomialNB\n",
    "nb = MultinomialNB()\n",
    "nb.fit(X_train_bow,y_train)"
   ]
  },
  {
   "cell_type": "code",
   "execution_count": 81,
   "id": "846f4db4",
   "metadata": {},
   "outputs": [
    {
     "data": {
      "text/plain": [
       "0.916753102665325"
      ]
     },
     "execution_count": 81,
     "metadata": {},
     "output_type": "execute_result"
    }
   ],
   "source": [
    "nb.score(X_train_bow,y_train)"
   ]
  },
  {
   "cell_type": "code",
   "execution_count": 82,
   "id": "0cd71258",
   "metadata": {},
   "outputs": [],
   "source": [
    "y_test_pred_nb = nb.predict(X_test_bow)"
   ]
  },
  {
   "cell_type": "code",
   "execution_count": 83,
   "id": "77528be2",
   "metadata": {},
   "outputs": [
    {
     "data": {
      "text/plain": [
       "0.9055399694163827"
      ]
     },
     "execution_count": 83,
     "metadata": {},
     "output_type": "execute_result"
    }
   ],
   "source": [
    "accuracy_score(y_test, y_test_pred_nb)"
   ]
  },
  {
   "cell_type": "markdown",
   "id": "5cced00c",
   "metadata": {},
   "source": [
    "###  Saving the Model"
   ]
  },
  {
   "cell_type": "code",
   "execution_count": 85,
   "id": "2ed6a869",
   "metadata": {},
   "outputs": [],
   "source": [
    "from pickle import dump"
   ]
  },
  {
   "cell_type": "code",
   "execution_count": 86,
   "id": "a2fbbeed",
   "metadata": {},
   "outputs": [],
   "source": [
    "dump(classifier, open('model/log_model.pkl', 'wb'))"
   ]
  },
  {
   "cell_type": "code",
   "execution_count": null,
   "id": "22902c2b",
   "metadata": {},
   "outputs": [],
   "source": []
  },
  {
   "cell_type": "markdown",
   "id": "987050e0",
   "metadata": {},
   "source": [
    "### We will check model in nxt notebook"
   ]
  },
  {
   "cell_type": "code",
   "execution_count": null,
   "id": "331ad7ee",
   "metadata": {},
   "outputs": [],
   "source": []
  }
 ],
 "metadata": {
  "kernelspec": {
   "display_name": "Python 3 (ipykernel)",
   "language": "python",
   "name": "python3"
  },
  "language_info": {
   "codemirror_mode": {
    "name": "ipython",
    "version": 3
   },
   "file_extension": ".py",
   "mimetype": "text/x-python",
   "name": "python",
   "nbconvert_exporter": "python",
   "pygments_lexer": "ipython3",
   "version": "3.9.7"
  }
 },
 "nbformat": 4,
 "nbformat_minor": 5
}
