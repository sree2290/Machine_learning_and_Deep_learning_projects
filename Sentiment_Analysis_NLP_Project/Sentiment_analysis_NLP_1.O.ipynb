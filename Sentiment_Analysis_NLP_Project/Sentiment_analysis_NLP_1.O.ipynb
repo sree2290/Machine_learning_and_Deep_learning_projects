{
 "cells": [
  {
   "cell_type": "markdown",
   "id": "daf55d0e",
   "metadata": {},
   "source": [
    "##  NLP_Project\n"
   ]
  },
  {
   "cell_type": "markdown",
   "id": "7319a257",
   "metadata": {},
   "source": [
    "###  import necessary libraries"
   ]
  },
  {
   "cell_type": "code",
   "execution_count": 1,
   "id": "5aee7db4",
   "metadata": {},
   "outputs": [],
   "source": [
    "import pandas as pd\n",
    "import numpy as np\n",
    "from tqdm import tqdm"
   ]
  },
  {
   "cell_type": "code",
   "execution_count": 2,
   "id": "127bb993",
   "metadata": {},
   "outputs": [
    {
     "data": {
      "text/plain": [
       "'C:\\\\Users\\\\SREE\\\\Machine Learning\\\\Practice\\\\NLP_Text_Project'"
      ]
     },
     "execution_count": 2,
     "metadata": {},
     "output_type": "execute_result"
    }
   ],
   "source": [
    "pwd"
   ]
  },
  {
   "cell_type": "markdown",
   "id": "7845d5d6",
   "metadata": {},
   "source": [
    "### Read only single Review"
   ]
  },
  {
   "cell_type": "code",
   "execution_count": 3,
   "id": "286eb2a9",
   "metadata": {
    "scrolled": true
   },
   "outputs": [],
   "source": [
    "data = pd.read_csv(\"txt_reviews/review_1.txt\")"
   ]
  },
  {
   "cell_type": "code",
   "execution_count": 4,
   "id": "bd65c423",
   "metadata": {},
   "outputs": [
    {
     "data": {
      "text/html": [
       "<div>\n",
       "<style scoped>\n",
       "    .dataframe tbody tr th:only-of-type {\n",
       "        vertical-align: middle;\n",
       "    }\n",
       "\n",
       "    .dataframe tbody tr th {\n",
       "        vertical-align: top;\n",
       "    }\n",
       "\n",
       "    .dataframe thead th {\n",
       "        text-align: right;\n",
       "    }\n",
       "</style>\n",
       "<table border=\"1\" class=\"dataframe\">\n",
       "  <thead>\n",
       "    <tr style=\"text-align: right;\">\n",
       "      <th></th>\n",
       "      <th>ProductId: B001E4KFG0</th>\n",
       "    </tr>\n",
       "  </thead>\n",
       "  <tbody>\n",
       "    <tr>\n",
       "      <th>0</th>\n",
       "      <td>UserId: A3SGXH7AUHU8GW</td>\n",
       "    </tr>\n",
       "    <tr>\n",
       "      <th>1</th>\n",
       "      <td>ProfileName: delmartian</td>\n",
       "    </tr>\n",
       "    <tr>\n",
       "      <th>2</th>\n",
       "      <td>HelpfulnessNumerator: 1</td>\n",
       "    </tr>\n",
       "    <tr>\n",
       "      <th>3</th>\n",
       "      <td>HelpfulnessDenominator: 1</td>\n",
       "    </tr>\n",
       "    <tr>\n",
       "      <th>4</th>\n",
       "      <td>Score: 5</td>\n",
       "    </tr>\n",
       "    <tr>\n",
       "      <th>5</th>\n",
       "      <td>Time: 1303862400</td>\n",
       "    </tr>\n",
       "    <tr>\n",
       "      <th>6</th>\n",
       "      <td>ReviewSummary: Good Quality Dog Food</td>\n",
       "    </tr>\n",
       "    <tr>\n",
       "      <th>7</th>\n",
       "      <td>ReviewText: I have bought several of the Vital...</td>\n",
       "    </tr>\n",
       "  </tbody>\n",
       "</table>\n",
       "</div>"
      ],
      "text/plain": [
       "                               ProductId: B001E4KFG0\n",
       "0                             UserId: A3SGXH7AUHU8GW\n",
       "1                            ProfileName: delmartian\n",
       "2                            HelpfulnessNumerator: 1\n",
       "3                          HelpfulnessDenominator: 1\n",
       "4                                           Score: 5\n",
       "5                                   Time: 1303862400\n",
       "6               ReviewSummary: Good Quality Dog Food\n",
       "7  ReviewText: I have bought several of the Vital..."
      ]
     },
     "execution_count": 4,
     "metadata": {},
     "output_type": "execute_result"
    }
   ],
   "source": [
    "data"
   ]
  },
  {
   "cell_type": "markdown",
   "id": "e9d8ca6f",
   "metadata": {},
   "source": [
    "#### we will read only important things from the above review"
   ]
  },
  {
   "cell_type": "code",
   "execution_count": 1,
   "id": "e00bc5a5",
   "metadata": {},
   "outputs": [],
   "source": [
    "# Creating empty lists that i can store all the reviews\n",
    "\n",
    "#Product_id =[]\n",
    "#User_id= []\n",
    "#Profile_name = []\n",
    "Help_num = []\n",
    "Help_den = []\n",
    "Score = []\n",
    "#Time = []\n",
    "#Summery = []\n",
    "Text = []\n",
    "\n"
   ]
  },
  {
   "cell_type": "code",
   "execution_count": 11,
   "id": "c924493a",
   "metadata": {},
   "outputs": [
    {
     "name": "stderr",
     "output_type": "stream",
     "text": [
      "100%|█████████████████████████████████████████████████████████████████████████| 300000/300000 [28:03<00:00, 178.24it/s]\n"
     ]
    }
   ],
   "source": [
    "\n",
    "for i in tqdm (range(1 , 300001)):\n",
    "    with open(f\"txt_reviews/review_{i}.txt\", \"r\", encoding='utf-8') as f:\n",
    "        contents = f.read()\n",
    "        #print(contents.split(\"\\n\")[7].split(\":\")[1])\n",
    "        #print(contents.split(\"\\n\")[1].split(\":\")[1])\n",
    "        #Product_id.append(contents.split(\"\\n\")[0].split(\":\")[1])\n",
    "        #User_id.append(contents.split(\"\\n\")[1].split(\":\")[1])\n",
    "        #Profile_name.append(contents.split(\"\\n\")[2].split(\":\")[1])\n",
    "        Help_num.append(contents.split(\"\\n\")[3].split(\":\")[1])\n",
    "        Help_den.append(contents.split(\"\\n\")[4].split(\":\")[1])\n",
    "        Score.append(contents.split(\"\\n\")[5].split(\":\")[1] )\n",
    "        #Time.append(contents.split(\"\\n\")[6].split(\":\")[1])\n",
    "        #Summery.append(contents.split(\"\\n\")[7].split(\":\")[1])\n",
    "        Text.append(contents.split(\"\\n\")[8].split(\":\")[1])"
   ]
  },
  {
   "cell_type": "code",
   "execution_count": null,
   "id": "6d9dc15a",
   "metadata": {},
   "outputs": [],
   "source": []
  },
  {
   "cell_type": "code",
   "execution_count": null,
   "id": "acd92727",
   "metadata": {},
   "outputs": [],
   "source": []
  },
  {
   "cell_type": "code",
   "execution_count": 12,
   "id": "71ff8b4d",
   "metadata": {},
   "outputs": [],
   "source": [
    "# converting into DataFrame"
   ]
  },
  {
   "cell_type": "code",
   "execution_count": 13,
   "id": "007bb381",
   "metadata": {},
   "outputs": [],
   "source": [
    "text_data = pd.DataFrame({\"Help_num\":Help_num,\n",
    "                         \"Help_dem\":Help_den,\n",
    "                         \"Score\":Score,\n",
    "                         \"Text\":Text})"
   ]
  },
  {
   "cell_type": "code",
   "execution_count": 14,
   "id": "99745195",
   "metadata": {},
   "outputs": [],
   "source": [
    "#text_data.to_csv(\"NLP.csv\")"
   ]
  },
  {
   "cell_type": "code",
   "execution_count": null,
   "id": "13e9f651",
   "metadata": {},
   "outputs": [],
   "source": []
  },
  {
   "cell_type": "markdown",
   "id": "5e1a25e7",
   "metadata": {},
   "source": [
    "### we continue this in another notebook 2.O"
   ]
  },
  {
   "cell_type": "code",
   "execution_count": null,
   "id": "4b32bc9a",
   "metadata": {},
   "outputs": [],
   "source": []
  }
 ],
 "metadata": {
  "kernelspec": {
   "display_name": "Python 3 (ipykernel)",
   "language": "python",
   "name": "python3"
  },
  "language_info": {
   "codemirror_mode": {
    "name": "ipython",
    "version": 3
   },
   "file_extension": ".py",
   "mimetype": "text/x-python",
   "name": "python",
   "nbconvert_exporter": "python",
   "pygments_lexer": "ipython3",
   "version": "3.9.7"
  }
 },
 "nbformat": 4,
 "nbformat_minor": 5
}
